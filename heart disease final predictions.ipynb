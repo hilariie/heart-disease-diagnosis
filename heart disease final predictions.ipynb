{
 "cells": [
  {
   "cell_type": "markdown",
   "metadata": {},
   "source": [
    "# Heart Disease Diagnosis model"
   ]
  },
  {
   "cell_type": "markdown",
   "metadata": {},
   "source": [
    "For this project, we'll try out several models to find out the best model.\n",
    "Let's start by importing and downloading (if necessary, the important libraries to be used)"
   ]
  },
  {
   "cell_type": "code",
   "execution_count": 1,
   "metadata": {},
   "outputs": [],
   "source": [
    "#!pip install mlxtend"
   ]
  },
  {
   "cell_type": "code",
   "execution_count": 2,
   "metadata": {
    "scrolled": true
   },
   "outputs": [
    {
     "name": "stderr",
     "output_type": "stream",
     "text": [
      "D:\\Users\\holar\\Anaconda3\\lib\\site-packages\\dask\\config.py:168: YAMLLoadWarning: calling yaml.load() without Loader=... is deprecated, as the default Loader is unsafe. Please read https://msg.pyyaml.org/load for full details.\n",
      "  data = yaml.load(f.read()) or {}\n",
      "D:\\Users\\holar\\Anaconda3\\lib\\site-packages\\distributed\\config.py:20: YAMLLoadWarning: calling yaml.load() without Loader=... is deprecated, as the default Loader is unsafe. Please read https://msg.pyyaml.org/load for full details.\n",
      "  defaults = yaml.load(f)\n"
     ]
    }
   ],
   "source": [
    "import tensorflow as tf\n",
    "import pandas as pd\n",
    "import numpy as np\n",
    "import matplotlib.pyplot as plt\n",
    "import seaborn as sns\n",
    "from sklearn.metrics import confusion_matrix, accuracy_score, classification_report, auc, roc_curve\n",
    "from sklearn.linear_model import LogisticRegression\n",
    "from sklearn.model_selection import train_test_split\n",
    "import eli5\n",
    "from eli5.sklearn import PermutationImportance\n",
    "from xgboost import XGBClassifier\n",
    "from sklearn.tree import DecisionTreeClassifier\n",
    "from mlxtend.classifier import StackingCVClassifier\n",
    "from sklearn.decomposition import PCA\n",
    "from sklearn.naive_bayes import GaussianNB\n",
    "from sklearn import svm\n",
    "import warnings\n",
    "warnings.filterwarnings('ignore')"
   ]
  },
  {
   "cell_type": "markdown",
   "metadata": {},
   "source": [
    "Since we're using several models we'll be creating functions to split our data and train our model"
   ]
  },
  {
   "cell_type": "code",
   "execution_count": 3,
   "metadata": {},
   "outputs": [],
   "source": [
    "def split_data(x,y):\n",
    "    '''Inputs: independent variables, dependent variables\n",
    "        output: a train and test portion of the data'''\n",
    "    x_train, x_test, y_train, y_test=train_test_split(x, y, test_size=0.2, random_state=2)\n",
    "    # the random state was given a value so our results can be reproduced\n",
    "    print('training size :{}, \\n test size :{}'.format(x_train.shape, x_test.shape))\n",
    "    \n",
    "    return x_train, x_test, y_train, y_test"
   ]
  },
  {
   "cell_type": "code",
   "execution_count": 4,
   "metadata": {},
   "outputs": [],
   "source": [
    "def train_model(x,y, model):\n",
    "    '''Receives the data and the model to be trained as inputs and prints the accuracy on the test data and train data'''\n",
    "    x_train, x_test, y_train, y_test=split_data(x,y)\n",
    "    \n",
    "    model.fit(x_train, y_train)\n",
    "    \n",
    "    print(\"accuracy on test data : {}\".format(model.score(x_test, y_test)))\n",
    "    \n",
    "    print(\"accuracy on train data: {}\".format(model.score(x_train, y_train)))"
   ]
  },
  {
   "cell_type": "code",
   "execution_count": 5,
   "metadata": {},
   "outputs": [],
   "source": [
    "def train_Model(x,y, model):\n",
    "    '''Receives the data and the model to be trained as inputs and prints the accuracyon the test \n",
    "    and train data while also plottinggraphs which helps us know how accurate our model is on the test data'''\n",
    "    x_train, x_test, y_train, y_test = split_data(x,y)\n",
    "    model.fit(x_train, y_train)\n",
    "    \n",
    "    print(\"accuracy on test data : {}\".format(model.score(x_test, y_test)))\n",
    "    \n",
    "    print(\"accuracy on train data: {}\".format(model.score(x_train, y_train)))\n",
    "    \n",
    "    \n",
    "    prediction= model.predict(x_test)\n",
    "    \n",
    "    print(classification_report(y_test, prediction))\n",
    "    \n",
    "    confusion_plot(y_test, prediction)\n",
    "    \n",
    "    distplott(y_test, prediction)\n",
    "    \n",
    "    roc_plot(y_test, prediction)\n"
   ]
  },
  {
   "cell_type": "code",
   "execution_count": 6,
   "metadata": {},
   "outputs": [],
   "source": [
    "def roc_plot(y_test, pred):\n",
    "    '''Receives the actual values and predicted values as inputs and plots an ROC graph'''\n",
    "    fpr, tpr, _ = roc_curve(y_test, pred)\n",
    "    roc_auc = auc(fpr, tpr)\n",
    "    plt.figure()\n",
    "    lw=2\n",
    "    plt.plot(fpr, tpr, color='darkorange', lw=lw, \n",
    "             label='ROC Curve (area = %0.2f)' %roc_auc)\n",
    "    plt.plot([0,1], [0,1], color='navy',lw=lw, linestyle='--')\n",
    "    plt.xlim([0.0,1.0])\n",
    "    plt.ylim([0.0,1.05])\n",
    "    plt.xlabel('False positive Rate')\n",
    "    \n",
    "    plt.ylabel('True Positive Rate')\n",
    "    plt.title('Receiver operating characteristic example')\n",
    "    plt.legend(loc='lower right')\n",
    "    plt.show"
   ]
  },
  {
   "cell_type": "code",
   "execution_count": 7,
   "metadata": {},
   "outputs": [],
   "source": [
    "def pca(data, count):\n",
    "    pca = PCA(n_components=count).fit_transform(data)\n",
    "    return pca"
   ]
  },
  {
   "cell_type": "code",
   "execution_count": 8,
   "metadata": {},
   "outputs": [],
   "source": [
    "def confusion_plot(test_data, predicted_data):\n",
    "    '''Recieves the actual and predicted values as inputs and plots confusion matrix graph as well as a precision graph'''\n",
    "    C = confusion_matrix(test_data, predicted_data)\n",
    "    B = C/C.sum(axis=0)\n",
    "    sns.heatmap(C, annot=True, fmt='.1f')\n",
    "    plt.xlabel('predicted data')\n",
    "    plt.ylabel('actual data')\n",
    "    plt.show()\n",
    "    \n",
    "    sns.heatmap(B, annot=True, fmt='.2f')\n",
    "    plt.xlabel('predicted data')\n",
    "    plt.ylabel('actual data')\n",
    "    plt.show()\n"
   ]
  },
  {
   "cell_type": "code",
   "execution_count": 9,
   "metadata": {},
   "outputs": [],
   "source": [
    "def distplott(act, pred):\n",
    "    plt.figure(figsize=[5, 5])\n",
    "    ax1=sns.distplot(pred, hist=False, color='pink', label='Prediction')\n",
    "    sns.distplot(act, hist=False, color='green', label='Actual data', ax=ax1)\n",
    "    plt.show()"
   ]
  },
  {
   "cell_type": "code",
   "execution_count": 10,
   "metadata": {},
   "outputs": [],
   "source": [
    "def feature_imp(x, y, model):\n",
    "    _, x_test, _, y_test= split_data(x,y)\n",
    "    perm = PermutationImportance(model).fit(x_test, y_test)\n",
    "    return eli5.show_weights(perm, feature_names = x_test.columns.tolist())"
   ]
  },
  {
   "cell_type": "code",
   "execution_count": 11,
   "metadata": {},
   "outputs": [
    {
     "data": {
      "text/html": [
       "<div>\n",
       "<style scoped>\n",
       "    .dataframe tbody tr th:only-of-type {\n",
       "        vertical-align: middle;\n",
       "    }\n",
       "\n",
       "    .dataframe tbody tr th {\n",
       "        vertical-align: top;\n",
       "    }\n",
       "\n",
       "    .dataframe thead th {\n",
       "        text-align: right;\n",
       "    }\n",
       "</style>\n",
       "<table border=\"1\" class=\"dataframe\">\n",
       "  <thead>\n",
       "    <tr style=\"text-align: right;\">\n",
       "      <th></th>\n",
       "      <th>age</th>\n",
       "      <th>sex</th>\n",
       "      <th>cp</th>\n",
       "      <th>trestbps</th>\n",
       "      <th>chol</th>\n",
       "      <th>fbs</th>\n",
       "      <th>restecg</th>\n",
       "      <th>thalach</th>\n",
       "      <th>exang</th>\n",
       "      <th>oldpeak</th>\n",
       "      <th>slope</th>\n",
       "      <th>ca</th>\n",
       "      <th>thal</th>\n",
       "      <th>target</th>\n",
       "    </tr>\n",
       "  </thead>\n",
       "  <tbody>\n",
       "    <tr>\n",
       "      <th>0</th>\n",
       "      <td>63</td>\n",
       "      <td>1</td>\n",
       "      <td>3</td>\n",
       "      <td>145</td>\n",
       "      <td>233</td>\n",
       "      <td>1</td>\n",
       "      <td>0</td>\n",
       "      <td>150</td>\n",
       "      <td>0</td>\n",
       "      <td>2.3</td>\n",
       "      <td>0</td>\n",
       "      <td>0</td>\n",
       "      <td>1</td>\n",
       "      <td>1</td>\n",
       "    </tr>\n",
       "    <tr>\n",
       "      <th>1</th>\n",
       "      <td>37</td>\n",
       "      <td>1</td>\n",
       "      <td>2</td>\n",
       "      <td>130</td>\n",
       "      <td>250</td>\n",
       "      <td>0</td>\n",
       "      <td>1</td>\n",
       "      <td>187</td>\n",
       "      <td>0</td>\n",
       "      <td>3.5</td>\n",
       "      <td>0</td>\n",
       "      <td>0</td>\n",
       "      <td>2</td>\n",
       "      <td>1</td>\n",
       "    </tr>\n",
       "    <tr>\n",
       "      <th>2</th>\n",
       "      <td>41</td>\n",
       "      <td>0</td>\n",
       "      <td>1</td>\n",
       "      <td>130</td>\n",
       "      <td>204</td>\n",
       "      <td>0</td>\n",
       "      <td>0</td>\n",
       "      <td>172</td>\n",
       "      <td>0</td>\n",
       "      <td>1.4</td>\n",
       "      <td>2</td>\n",
       "      <td>0</td>\n",
       "      <td>2</td>\n",
       "      <td>1</td>\n",
       "    </tr>\n",
       "    <tr>\n",
       "      <th>3</th>\n",
       "      <td>56</td>\n",
       "      <td>1</td>\n",
       "      <td>1</td>\n",
       "      <td>120</td>\n",
       "      <td>236</td>\n",
       "      <td>0</td>\n",
       "      <td>1</td>\n",
       "      <td>178</td>\n",
       "      <td>0</td>\n",
       "      <td>0.8</td>\n",
       "      <td>2</td>\n",
       "      <td>0</td>\n",
       "      <td>2</td>\n",
       "      <td>1</td>\n",
       "    </tr>\n",
       "    <tr>\n",
       "      <th>4</th>\n",
       "      <td>57</td>\n",
       "      <td>0</td>\n",
       "      <td>0</td>\n",
       "      <td>120</td>\n",
       "      <td>354</td>\n",
       "      <td>0</td>\n",
       "      <td>1</td>\n",
       "      <td>163</td>\n",
       "      <td>1</td>\n",
       "      <td>0.6</td>\n",
       "      <td>2</td>\n",
       "      <td>0</td>\n",
       "      <td>2</td>\n",
       "      <td>1</td>\n",
       "    </tr>\n",
       "  </tbody>\n",
       "</table>\n",
       "</div>"
      ],
      "text/plain": [
       "   age  sex  cp  trestbps  chol  fbs  restecg  thalach  exang  oldpeak  slope  \\\n",
       "0   63    1   3       145   233    1        0      150      0      2.3      0   \n",
       "1   37    1   2       130   250    0        1      187      0      3.5      0   \n",
       "2   41    0   1       130   204    0        0      172      0      1.4      2   \n",
       "3   56    1   1       120   236    0        1      178      0      0.8      2   \n",
       "4   57    0   0       120   354    0        1      163      1      0.6      2   \n",
       "\n",
       "   ca  thal  target  \n",
       "0   0     1       1  \n",
       "1   0     2       1  \n",
       "2   0     2       1  \n",
       "3   0     2       1  \n",
       "4   0     2       1  "
      ]
     },
     "execution_count": 11,
     "metadata": {},
     "output_type": "execute_result"
    }
   ],
   "source": [
    "df=pd.read_csv(r\"D:\\Downloads\\data Science pract\\heart-disease-uci\\heart data.csv\")\n",
    "df.head()"
   ]
  },
  {
   "cell_type": "markdown",
   "metadata": {},
   "source": [
    "**Note**: The data is clean and has been checked prior to the creation of this notebook"
   ]
  },
  {
   "cell_type": "code",
   "execution_count": 12,
   "metadata": {},
   "outputs": [],
   "source": [
    "xgb= XGBClassifier()\n",
    "dtc = DecisionTreeClassifier()\n",
    "clf = GaussianNB()\n",
    "lr=LogisticRegression()"
   ]
  },
  {
   "cell_type": "code",
   "execution_count": 13,
   "metadata": {},
   "outputs": [],
   "source": [
    "#assigning variables to the independent and dependent variables\n",
    "x = df.drop(['target'], axis=1)\n",
    "#x=x.values\n",
    "y=df.target\n",
    "y=y.values"
   ]
  },
  {
   "cell_type": "code",
   "execution_count": 14,
   "metadata": {},
   "outputs": [
    {
     "name": "stdout",
     "output_type": "stream",
     "text": [
      "training size :(242, 13), \n",
      " test size :(61, 13)\n",
      "accuracy on test data : 0.8524590163934426\n",
      "accuracy on train data: 1.0\n"
     ]
    }
   ],
   "source": [
    "train_model(x, y, xgb)"
   ]
  },
  {
   "cell_type": "markdown",
   "metadata": {},
   "source": [
    "As shown above, xgboost performs well in the test data but overfitting the training data"
   ]
  },
  {
   "cell_type": "code",
   "execution_count": 15,
   "metadata": {},
   "outputs": [
    {
     "data": {
      "text/plain": [
       "array([0.03310146, 0.06862222, 0.17628443, 0.0270577 , 0.03110331,\n",
       "       0.04775894, 0.0340265 , 0.03748947, 0.17403798, 0.05834336,\n",
       "       0.07695502, 0.12165924, 0.11356039], dtype=float32)"
      ]
     },
     "execution_count": 15,
     "metadata": {},
     "output_type": "execute_result"
    }
   ],
   "source": [
    "#let's plot a graph showing the important features for this model\n",
    "xgb.feature_importances_"
   ]
  },
  {
   "cell_type": "markdown",
   "metadata": {},
   "source": [
    "cp, exang, ca and thal are of high importance to our xgboost model"
   ]
  },
  {
   "cell_type": "code",
   "execution_count": 16,
   "metadata": {},
   "outputs": [
    {
     "name": "stdout",
     "output_type": "stream",
     "text": [
      "training size :(242, 13), \n",
      " test size :(61, 13)\n",
      "accuracy on test data : 0.7868852459016393\n",
      "accuracy on train data: 1.0\n"
     ]
    }
   ],
   "source": [
    "train_model(x,y, dtc)"
   ]
  },
  {
   "cell_type": "code",
   "execution_count": 17,
   "metadata": {},
   "outputs": [
    {
     "name": "stdout",
     "output_type": "stream",
     "text": [
      "training size :(242, 13), \n",
      " test size :(61, 13)\n",
      "accuracy on test data : 0.8852459016393442\n",
      "accuracy on train data: 0.8181818181818182\n"
     ]
    }
   ],
   "source": [
    "train_model(x,y, clf)"
   ]
  },
  {
   "cell_type": "code",
   "execution_count": 18,
   "metadata": {},
   "outputs": [
    {
     "name": "stdout",
     "output_type": "stream",
     "text": [
      "training size :(242, 13), \n",
      " test size :(61, 13)\n",
      "accuracy on test data : 0.9016393442622951\n",
      "accuracy on train data: 0.8264462809917356\n"
     ]
    }
   ],
   "source": [
    "train_model(x, y, lr)"
   ]
  },
  {
   "cell_type": "markdown",
   "metadata": {},
   "source": [
    "So far, logistic regression has the highest accuracy on the test data set."
   ]
  },
  {
   "cell_type": "markdown",
   "metadata": {},
   "source": [
    "# Feature importance"
   ]
  },
  {
   "cell_type": "code",
   "execution_count": 19,
   "metadata": {},
   "outputs": [
    {
     "name": "stdout",
     "output_type": "stream",
     "text": [
      "training size :(242, 13), \n",
      " test size :(61, 13)\n"
     ]
    },
    {
     "data": {
      "text/html": [
       "\n",
       "    <style>\n",
       "    table.eli5-weights tr:hover {\n",
       "        filter: brightness(85%);\n",
       "    }\n",
       "</style>\n",
       "\n",
       "\n",
       "\n",
       "    \n",
       "\n",
       "    \n",
       "\n",
       "    \n",
       "\n",
       "    \n",
       "\n",
       "    \n",
       "\n",
       "    \n",
       "\n",
       "\n",
       "    \n",
       "\n",
       "    \n",
       "\n",
       "    \n",
       "\n",
       "    \n",
       "\n",
       "    \n",
       "\n",
       "    \n",
       "\n",
       "\n",
       "    \n",
       "\n",
       "    \n",
       "\n",
       "    \n",
       "\n",
       "    \n",
       "\n",
       "    \n",
       "        <table class=\"eli5-weights eli5-feature-importances\" style=\"border-collapse: collapse; border: none; margin-top: 0em; table-layout: auto;\">\n",
       "    <thead>\n",
       "    <tr style=\"border: none;\">\n",
       "        <th style=\"padding: 0 1em 0 0.5em; text-align: right; border: none;\">Weight</th>\n",
       "        <th style=\"padding: 0 0.5em 0 0.5em; text-align: left; border: none;\">Feature</th>\n",
       "    </tr>\n",
       "    </thead>\n",
       "    <tbody>\n",
       "    \n",
       "        <tr style=\"background-color: hsl(120, 100.00%, 80.00%); border: none;\">\n",
       "            <td style=\"padding: 0 1em 0 0.5em; text-align: right; border: none;\">\n",
       "                0.0820\n",
       "                \n",
       "                    &plusmn; 0.0718\n",
       "                \n",
       "            </td>\n",
       "            <td style=\"padding: 0 0.5em 0 0.5em; text-align: left; border: none;\">\n",
       "                ca\n",
       "            </td>\n",
       "        </tr>\n",
       "    \n",
       "        <tr style=\"background-color: hsl(120, 100.00%, 84.73%); border: none;\">\n",
       "            <td style=\"padding: 0 1em 0 0.5em; text-align: right; border: none;\">\n",
       "                0.0557\n",
       "                \n",
       "                    &plusmn; 0.0675\n",
       "                \n",
       "            </td>\n",
       "            <td style=\"padding: 0 0.5em 0 0.5em; text-align: left; border: none;\">\n",
       "                thalach\n",
       "            </td>\n",
       "        </tr>\n",
       "    \n",
       "        <tr style=\"background-color: hsl(120, 100.00%, 86.01%); border: none;\">\n",
       "            <td style=\"padding: 0 1em 0 0.5em; text-align: right; border: none;\">\n",
       "                0.0492\n",
       "                \n",
       "                    &plusmn; 0.0293\n",
       "                \n",
       "            </td>\n",
       "            <td style=\"padding: 0 0.5em 0 0.5em; text-align: left; border: none;\">\n",
       "                thal\n",
       "            </td>\n",
       "        </tr>\n",
       "    \n",
       "        <tr style=\"background-color: hsl(120, 100.00%, 86.67%); border: none;\">\n",
       "            <td style=\"padding: 0 1em 0 0.5em; text-align: right; border: none;\">\n",
       "                0.0459\n",
       "                \n",
       "                    &plusmn; 0.0564\n",
       "                \n",
       "            </td>\n",
       "            <td style=\"padding: 0 0.5em 0 0.5em; text-align: left; border: none;\">\n",
       "                cp\n",
       "            </td>\n",
       "        </tr>\n",
       "    \n",
       "        <tr style=\"background-color: hsl(120, 100.00%, 89.47%); border: none;\">\n",
       "            <td style=\"padding: 0 1em 0 0.5em; text-align: right; border: none;\">\n",
       "                0.0328\n",
       "                \n",
       "                    &plusmn; 0.0359\n",
       "                \n",
       "            </td>\n",
       "            <td style=\"padding: 0 0.5em 0 0.5em; text-align: left; border: none;\">\n",
       "                oldpeak\n",
       "            </td>\n",
       "        </tr>\n",
       "    \n",
       "        <tr style=\"background-color: hsl(120, 100.00%, 91.80%); border: none;\">\n",
       "            <td style=\"padding: 0 1em 0 0.5em; text-align: right; border: none;\">\n",
       "                0.0230\n",
       "                \n",
       "                    &plusmn; 0.0334\n",
       "                \n",
       "            </td>\n",
       "            <td style=\"padding: 0 0.5em 0 0.5em; text-align: left; border: none;\">\n",
       "                sex\n",
       "            </td>\n",
       "        </tr>\n",
       "    \n",
       "        <tr style=\"background-color: hsl(120, 100.00%, 92.63%); border: none;\">\n",
       "            <td style=\"padding: 0 1em 0 0.5em; text-align: right; border: none;\">\n",
       "                0.0197\n",
       "                \n",
       "                    &plusmn; 0.0245\n",
       "                \n",
       "            </td>\n",
       "            <td style=\"padding: 0 0.5em 0 0.5em; text-align: left; border: none;\">\n",
       "                restecg\n",
       "            </td>\n",
       "        </tr>\n",
       "    \n",
       "        <tr style=\"background-color: hsl(120, 100.00%, 93.52%); border: none;\">\n",
       "            <td style=\"padding: 0 1em 0 0.5em; text-align: right; border: none;\">\n",
       "                0.0164\n",
       "                \n",
       "                    &plusmn; 0.0207\n",
       "                \n",
       "            </td>\n",
       "            <td style=\"padding: 0 0.5em 0 0.5em; text-align: left; border: none;\">\n",
       "                slope\n",
       "            </td>\n",
       "        </tr>\n",
       "    \n",
       "        <tr style=\"background-color: hsl(120, 100.00%, 94.45%); border: none;\">\n",
       "            <td style=\"padding: 0 1em 0 0.5em; text-align: right; border: none;\">\n",
       "                0.0131\n",
       "                \n",
       "                    &plusmn; 0.0382\n",
       "                \n",
       "            </td>\n",
       "            <td style=\"padding: 0 0.5em 0 0.5em; text-align: left; border: none;\">\n",
       "                exang\n",
       "            </td>\n",
       "        </tr>\n",
       "    \n",
       "        <tr style=\"background-color: hsl(120, 100.00%, 97.90%); border: none;\">\n",
       "            <td style=\"padding: 0 1em 0 0.5em; text-align: right; border: none;\">\n",
       "                0.0033\n",
       "                \n",
       "                    &plusmn; 0.0131\n",
       "                \n",
       "            </td>\n",
       "            <td style=\"padding: 0 0.5em 0 0.5em; text-align: left; border: none;\">\n",
       "                age\n",
       "            </td>\n",
       "        </tr>\n",
       "    \n",
       "        <tr style=\"background-color: hsl(0, 100.00%, 100.00%); border: none;\">\n",
       "            <td style=\"padding: 0 1em 0 0.5em; text-align: right; border: none;\">\n",
       "                0\n",
       "                \n",
       "                    &plusmn; 0.0000\n",
       "                \n",
       "            </td>\n",
       "            <td style=\"padding: 0 0.5em 0 0.5em; text-align: left; border: none;\">\n",
       "                fbs\n",
       "            </td>\n",
       "        </tr>\n",
       "    \n",
       "        <tr style=\"background-color: hsl(0, 100.00%, 100.00%); border: none;\">\n",
       "            <td style=\"padding: 0 1em 0 0.5em; text-align: right; border: none;\">\n",
       "                0\n",
       "                \n",
       "                    &plusmn; 0.0000\n",
       "                \n",
       "            </td>\n",
       "            <td style=\"padding: 0 0.5em 0 0.5em; text-align: left; border: none;\">\n",
       "                chol\n",
       "            </td>\n",
       "        </tr>\n",
       "    \n",
       "        <tr style=\"background-color: hsl(0, 100.00%, 97.90%); border: none;\">\n",
       "            <td style=\"padding: 0 1em 0 0.5em; text-align: right; border: none;\">\n",
       "                -0.0033\n",
       "                \n",
       "                    &plusmn; 0.0245\n",
       "                \n",
       "            </td>\n",
       "            <td style=\"padding: 0 0.5em 0 0.5em; text-align: left; border: none;\">\n",
       "                trestbps\n",
       "            </td>\n",
       "        </tr>\n",
       "    \n",
       "    \n",
       "    </tbody>\n",
       "</table>\n",
       "    \n",
       "\n",
       "    \n",
       "\n",
       "\n",
       "    \n",
       "\n",
       "    \n",
       "\n",
       "    \n",
       "\n",
       "    \n",
       "\n",
       "    \n",
       "\n",
       "    \n",
       "\n",
       "\n",
       "\n"
      ],
      "text/plain": [
       "<IPython.core.display.HTML object>"
      ]
     },
     "execution_count": 19,
     "metadata": {},
     "output_type": "execute_result"
    }
   ],
   "source": [
    "feature_imp(x,y,lr)"
   ]
  },
  {
   "cell_type": "markdown",
   "metadata": {},
   "source": [
    "I dropped features that were of the lowest importance iteratively. 'thalach' was part of the selection initially but I realised that when dropped, the accuracy reduced drastically.\n"
   ]
  },
  {
   "cell_type": "code",
   "execution_count": 20,
   "metadata": {},
   "outputs": [],
   "source": [
    "df1 = df.drop(['age','fbs','trestbps','restecg','chol','sex','slope','thal'], axis=1)\n",
    "x1 = df1.drop(['target'], axis=1)\n",
    "y1 = df1.target"
   ]
  },
  {
   "cell_type": "code",
   "execution_count": 21,
   "metadata": {},
   "outputs": [
    {
     "data": {
      "text/html": [
       "<div>\n",
       "<style scoped>\n",
       "    .dataframe tbody tr th:only-of-type {\n",
       "        vertical-align: middle;\n",
       "    }\n",
       "\n",
       "    .dataframe tbody tr th {\n",
       "        vertical-align: top;\n",
       "    }\n",
       "\n",
       "    .dataframe thead th {\n",
       "        text-align: right;\n",
       "    }\n",
       "</style>\n",
       "<table border=\"1\" class=\"dataframe\">\n",
       "  <thead>\n",
       "    <tr style=\"text-align: right;\">\n",
       "      <th></th>\n",
       "      <th>cp</th>\n",
       "      <th>thalach</th>\n",
       "      <th>exang</th>\n",
       "      <th>oldpeak</th>\n",
       "      <th>ca</th>\n",
       "      <th>target</th>\n",
       "    </tr>\n",
       "  </thead>\n",
       "  <tbody>\n",
       "    <tr>\n",
       "      <th>0</th>\n",
       "      <td>3</td>\n",
       "      <td>150</td>\n",
       "      <td>0</td>\n",
       "      <td>2.3</td>\n",
       "      <td>0</td>\n",
       "      <td>1</td>\n",
       "    </tr>\n",
       "    <tr>\n",
       "      <th>1</th>\n",
       "      <td>2</td>\n",
       "      <td>187</td>\n",
       "      <td>0</td>\n",
       "      <td>3.5</td>\n",
       "      <td>0</td>\n",
       "      <td>1</td>\n",
       "    </tr>\n",
       "    <tr>\n",
       "      <th>2</th>\n",
       "      <td>1</td>\n",
       "      <td>172</td>\n",
       "      <td>0</td>\n",
       "      <td>1.4</td>\n",
       "      <td>0</td>\n",
       "      <td>1</td>\n",
       "    </tr>\n",
       "    <tr>\n",
       "      <th>3</th>\n",
       "      <td>1</td>\n",
       "      <td>178</td>\n",
       "      <td>0</td>\n",
       "      <td>0.8</td>\n",
       "      <td>0</td>\n",
       "      <td>1</td>\n",
       "    </tr>\n",
       "    <tr>\n",
       "      <th>4</th>\n",
       "      <td>0</td>\n",
       "      <td>163</td>\n",
       "      <td>1</td>\n",
       "      <td>0.6</td>\n",
       "      <td>0</td>\n",
       "      <td>1</td>\n",
       "    </tr>\n",
       "  </tbody>\n",
       "</table>\n",
       "</div>"
      ],
      "text/plain": [
       "   cp  thalach  exang  oldpeak  ca  target\n",
       "0   3      150      0      2.3   0       1\n",
       "1   2      187      0      3.5   0       1\n",
       "2   1      172      0      1.4   0       1\n",
       "3   1      178      0      0.8   0       1\n",
       "4   0      163      1      0.6   0       1"
      ]
     },
     "execution_count": 21,
     "metadata": {},
     "output_type": "execute_result"
    }
   ],
   "source": [
    "df1.head()"
   ]
  },
  {
   "cell_type": "code",
   "execution_count": 22,
   "metadata": {},
   "outputs": [
    {
     "data": {
      "text/html": [
       "<div>\n",
       "<style scoped>\n",
       "    .dataframe tbody tr th:only-of-type {\n",
       "        vertical-align: middle;\n",
       "    }\n",
       "\n",
       "    .dataframe tbody tr th {\n",
       "        vertical-align: top;\n",
       "    }\n",
       "\n",
       "    .dataframe thead th {\n",
       "        text-align: right;\n",
       "    }\n",
       "</style>\n",
       "<table border=\"1\" class=\"dataframe\">\n",
       "  <thead>\n",
       "    <tr style=\"text-align: right;\">\n",
       "      <th></th>\n",
       "      <th>cp</th>\n",
       "      <th>thalach</th>\n",
       "      <th>exang</th>\n",
       "      <th>oldpeak</th>\n",
       "      <th>ca</th>\n",
       "      <th>target</th>\n",
       "    </tr>\n",
       "  </thead>\n",
       "  <tbody>\n",
       "    <tr>\n",
       "      <th>cp</th>\n",
       "      <td>1.000000</td>\n",
       "      <td>0.295762</td>\n",
       "      <td>-0.394280</td>\n",
       "      <td>-0.149230</td>\n",
       "      <td>-0.181053</td>\n",
       "      <td>0.433798</td>\n",
       "    </tr>\n",
       "    <tr>\n",
       "      <th>thalach</th>\n",
       "      <td>0.295762</td>\n",
       "      <td>1.000000</td>\n",
       "      <td>-0.378812</td>\n",
       "      <td>-0.344187</td>\n",
       "      <td>-0.213177</td>\n",
       "      <td>0.421741</td>\n",
       "    </tr>\n",
       "    <tr>\n",
       "      <th>exang</th>\n",
       "      <td>-0.394280</td>\n",
       "      <td>-0.378812</td>\n",
       "      <td>1.000000</td>\n",
       "      <td>0.288223</td>\n",
       "      <td>0.115739</td>\n",
       "      <td>-0.436757</td>\n",
       "    </tr>\n",
       "    <tr>\n",
       "      <th>oldpeak</th>\n",
       "      <td>-0.149230</td>\n",
       "      <td>-0.344187</td>\n",
       "      <td>0.288223</td>\n",
       "      <td>1.000000</td>\n",
       "      <td>0.222682</td>\n",
       "      <td>-0.430696</td>\n",
       "    </tr>\n",
       "    <tr>\n",
       "      <th>ca</th>\n",
       "      <td>-0.181053</td>\n",
       "      <td>-0.213177</td>\n",
       "      <td>0.115739</td>\n",
       "      <td>0.222682</td>\n",
       "      <td>1.000000</td>\n",
       "      <td>-0.391724</td>\n",
       "    </tr>\n",
       "    <tr>\n",
       "      <th>target</th>\n",
       "      <td>0.433798</td>\n",
       "      <td>0.421741</td>\n",
       "      <td>-0.436757</td>\n",
       "      <td>-0.430696</td>\n",
       "      <td>-0.391724</td>\n",
       "      <td>1.000000</td>\n",
       "    </tr>\n",
       "  </tbody>\n",
       "</table>\n",
       "</div>"
      ],
      "text/plain": [
       "               cp   thalach     exang   oldpeak        ca    target\n",
       "cp       1.000000  0.295762 -0.394280 -0.149230 -0.181053  0.433798\n",
       "thalach  0.295762  1.000000 -0.378812 -0.344187 -0.213177  0.421741\n",
       "exang   -0.394280 -0.378812  1.000000  0.288223  0.115739 -0.436757\n",
       "oldpeak -0.149230 -0.344187  0.288223  1.000000  0.222682 -0.430696\n",
       "ca      -0.181053 -0.213177  0.115739  0.222682  1.000000 -0.391724\n",
       "target   0.433798  0.421741 -0.436757 -0.430696 -0.391724  1.000000"
      ]
     },
     "execution_count": 22,
     "metadata": {},
     "output_type": "execute_result"
    }
   ],
   "source": [
    "df1.corr()"
   ]
  },
  {
   "cell_type": "code",
   "execution_count": 23,
   "metadata": {},
   "outputs": [
    {
     "name": "stdout",
     "output_type": "stream",
     "text": [
      "training size :(242, 5), \n",
      " test size :(61, 5)\n",
      "accuracy on test data : 0.9344262295081968\n",
      "accuracy on train data: 0.8057851239669421\n"
     ]
    }
   ],
   "source": [
    "lr1 = LogisticRegression()\n",
    "train_model(x1, y1, lr1)"
   ]
  },
  {
   "cell_type": "markdown",
   "metadata": {},
   "source": [
    "As we can see, our model has improved in test data accuracy but reduced in train data accuracy."
   ]
  },
  {
   "cell_type": "code",
   "execution_count": 24,
   "metadata": {},
   "outputs": [
    {
     "name": "stdout",
     "output_type": "stream",
     "text": [
      "training size :(242, 5), \n",
      " test size :(61, 5)\n"
     ]
    },
    {
     "data": {
      "text/html": [
       "\n",
       "    <style>\n",
       "    table.eli5-weights tr:hover {\n",
       "        filter: brightness(85%);\n",
       "    }\n",
       "</style>\n",
       "\n",
       "\n",
       "\n",
       "    \n",
       "\n",
       "    \n",
       "\n",
       "    \n",
       "\n",
       "    \n",
       "\n",
       "    \n",
       "\n",
       "    \n",
       "\n",
       "\n",
       "    \n",
       "\n",
       "    \n",
       "\n",
       "    \n",
       "\n",
       "    \n",
       "\n",
       "    \n",
       "\n",
       "    \n",
       "\n",
       "\n",
       "    \n",
       "\n",
       "    \n",
       "\n",
       "    \n",
       "\n",
       "    \n",
       "\n",
       "    \n",
       "        <table class=\"eli5-weights eli5-feature-importances\" style=\"border-collapse: collapse; border: none; margin-top: 0em; table-layout: auto;\">\n",
       "    <thead>\n",
       "    <tr style=\"border: none;\">\n",
       "        <th style=\"padding: 0 1em 0 0.5em; text-align: right; border: none;\">Weight</th>\n",
       "        <th style=\"padding: 0 0.5em 0 0.5em; text-align: left; border: none;\">Feature</th>\n",
       "    </tr>\n",
       "    </thead>\n",
       "    <tbody>\n",
       "    \n",
       "        <tr style=\"background-color: hsl(120, 100.00%, 80.00%); border: none;\">\n",
       "            <td style=\"padding: 0 1em 0 0.5em; text-align: right; border: none;\">\n",
       "                0.1311\n",
       "                \n",
       "                    &plusmn; 0.0415\n",
       "                \n",
       "            </td>\n",
       "            <td style=\"padding: 0 0.5em 0 0.5em; text-align: left; border: none;\">\n",
       "                oldpeak\n",
       "            </td>\n",
       "        </tr>\n",
       "    \n",
       "        <tr style=\"background-color: hsl(120, 100.00%, 81.78%); border: none;\">\n",
       "            <td style=\"padding: 0 1em 0 0.5em; text-align: right; border: none;\">\n",
       "                0.1148\n",
       "                \n",
       "                    &plusmn; 0.0464\n",
       "                \n",
       "            </td>\n",
       "            <td style=\"padding: 0 0.5em 0 0.5em; text-align: left; border: none;\">\n",
       "                ca\n",
       "            </td>\n",
       "        </tr>\n",
       "    \n",
       "        <tr style=\"background-color: hsl(120, 100.00%, 82.15%); border: none;\">\n",
       "            <td style=\"padding: 0 1em 0 0.5em; text-align: right; border: none;\">\n",
       "                0.1115\n",
       "                \n",
       "                    &plusmn; 0.0759\n",
       "                \n",
       "            </td>\n",
       "            <td style=\"padding: 0 0.5em 0 0.5em; text-align: left; border: none;\">\n",
       "                cp\n",
       "            </td>\n",
       "        </tr>\n",
       "    \n",
       "        <tr style=\"background-color: hsl(120, 100.00%, 86.01%); border: none;\">\n",
       "            <td style=\"padding: 0 1em 0 0.5em; text-align: right; border: none;\">\n",
       "                0.0787\n",
       "                \n",
       "                    &plusmn; 0.0245\n",
       "                \n",
       "            </td>\n",
       "            <td style=\"padding: 0 0.5em 0 0.5em; text-align: left; border: none;\">\n",
       "                exang\n",
       "            </td>\n",
       "        </tr>\n",
       "    \n",
       "        <tr style=\"background-color: hsl(120, 100.00%, 90.89%); border: none;\">\n",
       "            <td style=\"padding: 0 1em 0 0.5em; text-align: right; border: none;\">\n",
       "                0.0426\n",
       "                \n",
       "                    &plusmn; 0.0393\n",
       "                \n",
       "            </td>\n",
       "            <td style=\"padding: 0 0.5em 0 0.5em; text-align: left; border: none;\">\n",
       "                thalach\n",
       "            </td>\n",
       "        </tr>\n",
       "    \n",
       "    \n",
       "    </tbody>\n",
       "</table>\n",
       "    \n",
       "\n",
       "    \n",
       "\n",
       "\n",
       "    \n",
       "\n",
       "    \n",
       "\n",
       "    \n",
       "\n",
       "    \n",
       "\n",
       "    \n",
       "\n",
       "    \n",
       "\n",
       "\n",
       "\n"
      ],
      "text/plain": [
       "<IPython.core.display.HTML object>"
      ]
     },
     "execution_count": 24,
     "metadata": {},
     "output_type": "execute_result"
    }
   ],
   "source": [
    "feature_imp(x1,y1,lr1)"
   ]
  },
  {
   "cell_type": "markdown",
   "metadata": {},
   "source": [
    "Now let's plot our graphs reflecting the accuracy of our new model's predictions"
   ]
  },
  {
   "cell_type": "code",
   "execution_count": 25,
   "metadata": {},
   "outputs": [
    {
     "name": "stdout",
     "output_type": "stream",
     "text": [
      "training size :(242, 5), \n",
      " test size :(61, 5)\n",
      "accuracy on test data : 0.9344262295081968\n",
      "accuracy on train data: 0.8057851239669421\n",
      "              precision    recall  f1-score   support\n",
      "\n",
      "           0       1.00      0.88      0.93        32\n",
      "           1       0.88      1.00      0.94        29\n",
      "\n",
      "   micro avg       0.93      0.93      0.93        61\n",
      "   macro avg       0.94      0.94      0.93        61\n",
      "weighted avg       0.94      0.93      0.93        61\n",
      "\n"
     ]
    },
    {
     "data": {
      "image/png": "[encoded data removed]",
      "text/plain": [
       "<Figure size 432x288 with 2 Axes>"
      ]
     },
     "metadata": {
      "needs_background": "light"
     },
     "output_type": "display_data"
    },
    {
     "data": {
      "image/png": "[encoded data removed]",
      "text/plain": [
       "<Figure size 432x288 with 2 Axes>"
      ]
     },
     "metadata": {
      "needs_background": "light"
     },
     "output_type": "display_data"
    },
    {
     "data": {
      "image/png": "[encoded data removed]",
      "text/plain": [
       "<Figure size 360x360 with 1 Axes>"
      ]
     },
     "metadata": {
      "needs_background": "light"
     },
     "output_type": "display_data"
    },
    {
     "data": {
      "image/png": "[encoded data removed]",
      "text/plain": [
       "<Figure size 432x288 with 1 Axes>"
      ]
     },
     "metadata": {
      "needs_background": "light"
     },
     "output_type": "display_data"
    }
   ],
   "source": [
    "train_Model(x1, y1, lr1)"
   ]
  },
  {
   "cell_type": "markdown",
   "metadata": {},
   "source": [
    "# Applying pca"
   ]
  },
  {
   "cell_type": "markdown",
   "metadata": {},
   "source": [
    "Let's apply pca to the whole dataset and check out the improvements"
   ]
  },
  {
   "cell_type": "code",
   "execution_count": 26,
   "metadata": {},
   "outputs": [],
   "source": [
    "X= pca(df, 13)"
   ]
  },
  {
   "cell_type": "code",
   "execution_count": 27,
   "metadata": {},
   "outputs": [
    {
     "name": "stdout",
     "output_type": "stream",
     "text": [
      "training size :(242, 13), \n",
      " test size :(61, 13)\n",
      "accuracy on test data : 0.9672131147540983\n",
      "accuracy on train data: 0.9545454545454546\n"
     ]
    }
   ],
   "source": [
    "pca_lr = LogisticRegression\n",
    "train_model(X, y, lr)"
   ]
  },
  {
   "cell_type": "markdown",
   "metadata": {},
   "source": [
    "# Using Neural Networks"
   ]
  },
  {
   "cell_type": "markdown",
   "metadata": {},
   "source": [
    "Let's create a neural network and compare the performance against our current best model(logistic regression)\n",
    "\n",
    "I had a lot of issues with over fitting hence the numerous dropout calls."
   ]
  },
  {
   "cell_type": "code",
   "execution_count": 28,
   "metadata": {},
   "outputs": [],
   "source": [
    "model1=tf.keras.Sequential([\n",
    "    \n",
    "    \n",
    "    tf.keras.layers.Dense(1024, activation='relu'),\n",
    "    tf.keras.layers.BatchNormalization(),\n",
    "    tf.keras.layers.Dropout(0.4),\n",
    "    \n",
    "    tf.keras.layers.Dense(1024, activation='relu'),\n",
    "    tf.keras.layers.Dropout(0.4),\n",
    "    \n",
    "    tf.keras.layers.Dense(1, activation='sigmoid')\n",
    "])\n",
    "model2=model1"
   ]
  },
  {
   "cell_type": "code",
   "execution_count": 29,
   "metadata": {},
   "outputs": [],
   "source": [
    "adam = tf.keras.optimizers.Adam(lr=0.001)\n",
    "model1.compile(optimizer=adam, loss='binary_crossentropy', metrics=['accuracy'])"
   ]
  },
  {
   "cell_type": "code",
   "execution_count": 30,
   "metadata": {},
   "outputs": [
    {
     "name": "stdout",
     "output_type": "stream",
     "text": [
      "training size :(242, 13), \n",
      " test size :(61, 13)\n"
     ]
    }
   ],
   "source": [
    "x_nn = x.values\n",
    "y_nn = y\n",
    "x_train, x_test, y_train, y_test= split_data(x_nn, y_nn)"
   ]
  },
  {
   "cell_type": "code",
   "execution_count": 31,
   "metadata": {},
   "outputs": [
    {
     "name": "stdout",
     "output_type": "stream",
     "text": [
      "Train on 242 samples\n",
      "Epoch 1/200\n",
      "242/242 [==============================] - 0s 2ms/sample - loss: 1.0443 - accuracy: 0.6157\n",
      "Epoch 2/200\n",
      "242/242 [==============================] - 0s 239us/sample - loss: 0.9089 - accuracy: 0.5702\n",
      "Epoch 3/200\n",
      "242/242 [==============================] - 0s 227us/sample - loss: 0.7848 - accuracy: 0.7025\n",
      "Epoch 4/200\n",
      "242/242 [==============================] - 0s 223us/sample - loss: 0.6664 - accuracy: 0.6860\n",
      "Epoch 5/200\n",
      "242/242 [==============================] - 0s 247us/sample - loss: 0.7213 - accuracy: 0.6901\n",
      "Epoch 6/200\n",
      "242/242 [==============================] - 0s 495us/sample - loss: 0.6463 - accuracy: 0.6942\n",
      "Epoch 7/200\n",
      "242/242 [==============================] - 0s 396us/sample - loss: 0.5702 - accuracy: 0.7190\n",
      "Epoch 8/200\n",
      "242/242 [==============================] - 0s 474us/sample - loss: 0.6735 - accuracy: 0.7107\n",
      "Epoch 9/200\n",
      "242/242 [==============================] - 0s 544us/sample - loss: 0.7165 - accuracy: 0.7397\n",
      "Epoch 10/200\n",
      "242/242 [==============================] - 0s 486us/sample - loss: 0.6971 - accuracy: 0.7149\n",
      "Epoch 11/200\n",
      "242/242 [==============================] - 0s 276us/sample - loss: 0.6942 - accuracy: 0.7397\n",
      "Epoch 12/200\n",
      "242/242 [==============================] - 0s 301us/sample - loss: 0.6806 - accuracy: 0.7479\n",
      "Epoch 13/200\n",
      "242/242 [==============================] - 0s 235us/sample - loss: 0.6066 - accuracy: 0.7438\n",
      "Epoch 14/200\n",
      "242/242 [==============================] - 0s 218us/sample - loss: 0.5925 - accuracy: 0.7810\n",
      "Epoch 15/200\n",
      "242/242 [==============================] - 0s 227us/sample - loss: 0.6602 - accuracy: 0.7562\n",
      "Epoch 16/200\n",
      "242/242 [==============================] - 0s 231us/sample - loss: 0.5544 - accuracy: 0.7810\n",
      "Epoch 17/200\n",
      "242/242 [==============================] - 0s 453us/sample - loss: 0.6058 - accuracy: 0.7479\n",
      "Epoch 18/200\n",
      "242/242 [==============================] - 0s 503us/sample - loss: 0.5237 - accuracy: 0.7975\n",
      "Epoch 19/200\n",
      "242/242 [==============================] - 0s 280us/sample - loss: 0.5266 - accuracy: 0.7851\n",
      "Epoch 20/200\n",
      "242/242 [==============================] - 0s 247us/sample - loss: 0.6056 - accuracy: 0.7562\n",
      "Epoch 21/200\n",
      "242/242 [==============================] - 0s 251us/sample - loss: 0.4553 - accuracy: 0.7975\n",
      "Epoch 22/200\n",
      "242/242 [==============================] - 0s 251us/sample - loss: 0.4545 - accuracy: 0.7851\n",
      "Epoch 23/200\n",
      "242/242 [==============================] - 0s 305us/sample - loss: 0.5631 - accuracy: 0.7851\n",
      "Epoch 24/200\n",
      "242/242 [==============================] - 0s 424us/sample - loss: 0.4939 - accuracy: 0.7727\n",
      "Epoch 25/200\n",
      "242/242 [==============================] - 0s 280us/sample - loss: 0.5308 - accuracy: 0.8058\n",
      "Epoch 26/200\n",
      "242/242 [==============================] - 0s 317us/sample - loss: 0.5243 - accuracy: 0.7686\n",
      "Epoch 27/200\n",
      "242/242 [==============================] - 0s 396us/sample - loss: 0.5284 - accuracy: 0.7893\n",
      "Epoch 28/200\n",
      "242/242 [==============================] - 0s 363us/sample - loss: 0.5152 - accuracy: 0.7810\n",
      "Epoch 29/200\n",
      "242/242 [==============================] - 0s 375us/sample - loss: 0.5260 - accuracy: 0.7810\n",
      "Epoch 30/200\n",
      "242/242 [==============================] - 0s 284us/sample - loss: 0.5636 - accuracy: 0.7521\n",
      "Epoch 31/200\n",
      "242/242 [==============================] - 0s 251us/sample - loss: 0.6321 - accuracy: 0.7562\n",
      "Epoch 32/200\n",
      "242/242 [==============================] - 0s 268us/sample - loss: 0.6205 - accuracy: 0.7851\n",
      "Epoch 33/200\n",
      "242/242 [==============================] - 0s 256us/sample - loss: 0.5109 - accuracy: 0.8223\n",
      "Epoch 34/200\n",
      "242/242 [==============================] - 0s 260us/sample - loss: 0.5594 - accuracy: 0.7810\n",
      "Epoch 35/200\n",
      "242/242 [==============================] - 0s 293us/sample - loss: 0.4526 - accuracy: 0.8182\n",
      "Epoch 36/200\n",
      "242/242 [==============================] - 0s 264us/sample - loss: 0.5829 - accuracy: 0.7603\n",
      "Epoch 37/200\n",
      "242/242 [==============================] - 0s 235us/sample - loss: 0.5325 - accuracy: 0.7603\n",
      "Epoch 38/200\n",
      "242/242 [==============================] - 0s 223us/sample - loss: 0.5036 - accuracy: 0.8017\n",
      "Epoch 39/200\n",
      "242/242 [==============================] - 0s 239us/sample - loss: 0.4361 - accuracy: 0.8223\n",
      "Epoch 40/200\n",
      "242/242 [==============================] - 0s 251us/sample - loss: 0.4005 - accuracy: 0.8264\n",
      "Epoch 41/200\n",
      "242/242 [==============================] - 0s 251us/sample - loss: 0.4812 - accuracy: 0.7851\n",
      "Epoch 42/200\n",
      "242/242 [==============================] - 0s 247us/sample - loss: 0.4719 - accuracy: 0.7769\n",
      "Epoch 43/200\n",
      "242/242 [==============================] - 0s 301us/sample - loss: 0.3820 - accuracy: 0.8347\n",
      "Epoch 44/200\n",
      "242/242 [==============================] - 0s 260us/sample - loss: 0.4714 - accuracy: 0.7934\n",
      "Epoch 45/200\n",
      "242/242 [==============================] - 0s 243us/sample - loss: 0.4610 - accuracy: 0.7934\n",
      "Epoch 46/200\n",
      "242/242 [==============================] - 0s 251us/sample - loss: 0.4374 - accuracy: 0.8017\n",
      "Epoch 47/200\n",
      "242/242 [==============================] - 0s 301us/sample - loss: 0.4414 - accuracy: 0.8264\n",
      "Epoch 48/200\n",
      "242/242 [==============================] - 0s 243us/sample - loss: 0.4152 - accuracy: 0.8058\n",
      "Epoch 49/200\n",
      "242/242 [==============================] - 0s 371us/sample - loss: 0.3916 - accuracy: 0.8140\n",
      "Epoch 50/200\n",
      "242/242 [==============================] - 0s 437us/sample - loss: 0.4695 - accuracy: 0.7851\n",
      "Epoch 51/200\n",
      "242/242 [==============================] - 0s 268us/sample - loss: 0.4071 - accuracy: 0.8099\n",
      "Epoch 52/200\n",
      "242/242 [==============================] - 0s 227us/sample - loss: 0.4923 - accuracy: 0.7893\n",
      "Epoch 53/200\n",
      "242/242 [==============================] - 0s 243us/sample - loss: 0.4551 - accuracy: 0.8017\n",
      "Epoch 54/200\n",
      "242/242 [==============================] - 0s 268us/sample - loss: 0.4072 - accuracy: 0.8264\n",
      "Epoch 55/200\n",
      "242/242 [==============================] - 0s 272us/sample - loss: 0.4316 - accuracy: 0.8182\n",
      "Epoch 56/200\n",
      "242/242 [==============================] - 0s 243us/sample - loss: 0.4409 - accuracy: 0.8099\n",
      "Epoch 57/200\n",
      "242/242 [==============================] - 0s 227us/sample - loss: 0.4084 - accuracy: 0.8182\n",
      "Epoch 58/200\n",
      "242/242 [==============================] - 0s 247us/sample - loss: 0.4176 - accuracy: 0.8140\n",
      "Epoch 59/200\n",
      "242/242 [==============================] - 0s 293us/sample - loss: 0.4684 - accuracy: 0.8223\n",
      "Epoch 60/200\n",
      "242/242 [==============================] - 0s 334us/sample - loss: 0.4021 - accuracy: 0.8347\n",
      "Epoch 61/200\n",
      "242/242 [==============================] - 0s 367us/sample - loss: 0.4023 - accuracy: 0.8182\n",
      "Epoch 62/200\n",
      "242/242 [==============================] - 0s 321us/sample - loss: 0.4208 - accuracy: 0.7851\n",
      "Epoch 63/200\n",
      "242/242 [==============================] - 0s 264us/sample - loss: 0.3739 - accuracy: 0.8017\n",
      "Epoch 64/200\n",
      "242/242 [==============================] - 0s 251us/sample - loss: 0.3461 - accuracy: 0.8347\n",
      "Epoch 65/200\n",
      "242/242 [==============================] - 0s 309us/sample - loss: 0.4288 - accuracy: 0.8223\n",
      "Epoch 66/200\n",
      "242/242 [==============================] - 0s 297us/sample - loss: 0.3939 - accuracy: 0.8223\n",
      "Epoch 67/200\n",
      "242/242 [==============================] - 0s 330us/sample - loss: 0.3956 - accuracy: 0.8264\n",
      "Epoch 68/200\n",
      "242/242 [==============================] - 0s 321us/sample - loss: 0.3517 - accuracy: 0.8388\n",
      "Epoch 69/200\n",
      "242/242 [==============================] - 0s 293us/sample - loss: 0.4539 - accuracy: 0.8058\n",
      "Epoch 70/200\n",
      "242/242 [==============================] - 0s 235us/sample - loss: 0.3871 - accuracy: 0.8223\n",
      "Epoch 71/200\n",
      "242/242 [==============================] - 0s 210us/sample - loss: 0.3845 - accuracy: 0.8099\n",
      "Epoch 72/200\n",
      "242/242 [==============================] - 0s 231us/sample - loss: 0.3707 - accuracy: 0.8140\n",
      "Epoch 73/200\n",
      "242/242 [==============================] - 0s 223us/sample - loss: 0.4209 - accuracy: 0.8058\n",
      "Epoch 74/200\n",
      "242/242 [==============================] - 0s 264us/sample - loss: 0.4069 - accuracy: 0.8264\n",
      "Epoch 75/200\n",
      "242/242 [==============================] - 0s 321us/sample - loss: 0.3724 - accuracy: 0.8264\n",
      "Epoch 76/200\n",
      "242/242 [==============================] - 0s 330us/sample - loss: 0.3939 - accuracy: 0.8140\n",
      "Epoch 77/200\n",
      "242/242 [==============================] - 0s 243us/sample - loss: 0.3639 - accuracy: 0.8347\n",
      "Epoch 78/200\n"
     ]
    },
    {
     "name": "stdout",
     "output_type": "stream",
     "text": [
      "242/242 [==============================] - 0s 227us/sample - loss: 0.3783 - accuracy: 0.8140\n",
      "Epoch 79/200\n",
      "242/242 [==============================] - 0s 239us/sample - loss: 0.3939 - accuracy: 0.8264\n",
      "Epoch 80/200\n",
      "242/242 [==============================] - 0s 239us/sample - loss: 0.3752 - accuracy: 0.8182\n",
      "Epoch 81/200\n",
      "242/242 [==============================] - 0s 247us/sample - loss: 0.4218 - accuracy: 0.8182\n",
      "Epoch 82/200\n",
      "242/242 [==============================] - 0s 235us/sample - loss: 0.3638 - accuracy: 0.8140\n",
      "Epoch 83/200\n",
      "242/242 [==============================] - 0s 231us/sample - loss: 0.3621 - accuracy: 0.8223\n",
      "Epoch 84/200\n",
      "242/242 [==============================] - 0s 214us/sample - loss: 0.3459 - accuracy: 0.8306\n",
      "Epoch 85/200\n",
      "242/242 [==============================] - 0s 223us/sample - loss: 0.3313 - accuracy: 0.8388\n",
      "Epoch 86/200\n",
      "242/242 [==============================] - 0s 223us/sample - loss: 0.3462 - accuracy: 0.8264\n",
      "Epoch 87/200\n",
      "242/242 [==============================] - 0s 235us/sample - loss: 0.3775 - accuracy: 0.8512\n",
      "Epoch 88/200\n",
      "242/242 [==============================] - 0s 276us/sample - loss: 0.3650 - accuracy: 0.8223\n",
      "Epoch 89/200\n",
      "242/242 [==============================] - 0s 260us/sample - loss: 0.3612 - accuracy: 0.8264\n",
      "Epoch 90/200\n",
      "242/242 [==============================] - 0s 251us/sample - loss: 0.3281 - accuracy: 0.8306\n",
      "Epoch 91/200\n",
      "242/242 [==============================] - 0s 218us/sample - loss: 0.3771 - accuracy: 0.8347\n",
      "Epoch 92/200\n",
      "242/242 [==============================] - 0s 223us/sample - loss: 0.3736 - accuracy: 0.8306\n",
      "Epoch 93/200\n",
      "242/242 [==============================] - 0s 276us/sample - loss: 0.3461 - accuracy: 0.8347\n",
      "Epoch 94/200\n",
      "242/242 [==============================] - 0s 305us/sample - loss: 0.3968 - accuracy: 0.8430\n",
      "Epoch 95/200\n",
      "242/242 [==============================] - 0s 309us/sample - loss: 0.3752 - accuracy: 0.8264\n",
      "Epoch 96/200\n",
      "242/242 [==============================] - 0s 231us/sample - loss: 0.3615 - accuracy: 0.8264\n",
      "Epoch 97/200\n",
      "242/242 [==============================] - 0s 231us/sample - loss: 0.3662 - accuracy: 0.8306\n",
      "Epoch 98/200\n",
      "242/242 [==============================] - 0s 227us/sample - loss: 0.3447 - accuracy: 0.8347\n",
      "Epoch 99/200\n",
      "242/242 [==============================] - 0s 218us/sample - loss: 0.3834 - accuracy: 0.8223\n",
      "Epoch 100/200\n",
      "242/242 [==============================] - 0s 214us/sample - loss: 0.3902 - accuracy: 0.8512\n",
      "Epoch 101/200\n",
      "242/242 [==============================] - 0s 235us/sample - loss: 0.3422 - accuracy: 0.8264\n",
      "Epoch 102/200\n",
      "242/242 [==============================] - 0s 223us/sample - loss: 0.3483 - accuracy: 0.8306\n",
      "Epoch 103/200\n",
      "242/242 [==============================] - 0s 243us/sample - loss: 0.3860 - accuracy: 0.8223\n",
      "Epoch 104/200\n",
      "242/242 [==============================] - 0s 231us/sample - loss: 0.3578 - accuracy: 0.8388\n",
      "Epoch 105/200\n",
      "242/242 [==============================] - 0s 235us/sample - loss: 0.3629 - accuracy: 0.8595\n",
      "Epoch 106/200\n",
      "242/242 [==============================] - 0s 223us/sample - loss: 0.3392 - accuracy: 0.8306\n",
      "Epoch 107/200\n",
      "242/242 [==============================] - 0s 214us/sample - loss: 0.3211 - accuracy: 0.8471\n",
      "Epoch 108/200\n",
      "242/242 [==============================] - 0s 223us/sample - loss: 0.3714 - accuracy: 0.8430\n",
      "Epoch 109/200\n",
      "242/242 [==============================] - 0s 223us/sample - loss: 0.4260 - accuracy: 0.7934\n",
      "Epoch 110/200\n",
      "242/242 [==============================] - 0s 227us/sample - loss: 0.3779 - accuracy: 0.8306\n",
      "Epoch 111/200\n",
      "242/242 [==============================] - 0s 235us/sample - loss: 0.3817 - accuracy: 0.7934\n",
      "Epoch 112/200\n",
      "242/242 [==============================] - 0s 218us/sample - loss: 0.3400 - accuracy: 0.8430\n",
      "Epoch 113/200\n",
      "242/242 [==============================] - 0s 214us/sample - loss: 0.3141 - accuracy: 0.8719\n",
      "Epoch 114/200\n",
      "242/242 [==============================] - 0s 218us/sample - loss: 0.3828 - accuracy: 0.8306\n",
      "Epoch 115/200\n",
      "242/242 [==============================] - 0s 223us/sample - loss: 0.3461 - accuracy: 0.8388\n",
      "Epoch 116/200\n",
      "242/242 [==============================] - 0s 214us/sample - loss: 0.3401 - accuracy: 0.8636\n",
      "Epoch 117/200\n",
      "242/242 [==============================] - 0s 218us/sample - loss: 0.3311 - accuracy: 0.8595\n",
      "Epoch 118/200\n",
      "242/242 [==============================] - 0s 243us/sample - loss: 0.3521 - accuracy: 0.8471\n",
      "Epoch 119/200\n",
      "242/242 [==============================] - 0s 231us/sample - loss: 0.3024 - accuracy: 0.8595\n",
      "Epoch 120/200\n",
      "242/242 [==============================] - 0s 260us/sample - loss: 0.3036 - accuracy: 0.8678\n",
      "Epoch 121/200\n",
      "242/242 [==============================] - 0s 235us/sample - loss: 0.3153 - accuracy: 0.8554\n",
      "Epoch 122/200\n",
      "242/242 [==============================] - 0s 227us/sample - loss: 0.3776 - accuracy: 0.8182\n",
      "Epoch 123/200\n",
      "242/242 [==============================] - 0s 214us/sample - loss: 0.3421 - accuracy: 0.8512\n",
      "Epoch 124/200\n",
      "242/242 [==============================] - 0s 223us/sample - loss: 0.3232 - accuracy: 0.8512\n",
      "Epoch 125/200\n",
      "242/242 [==============================] - 0s 223us/sample - loss: 0.3057 - accuracy: 0.8760\n",
      "Epoch 126/200\n",
      "242/242 [==============================] - 0s 218us/sample - loss: 0.3510 - accuracy: 0.8595\n",
      "Epoch 127/200\n",
      "242/242 [==============================] - 0s 223us/sample - loss: 0.2985 - accuracy: 0.8512\n",
      "Epoch 128/200\n",
      "242/242 [==============================] - 0s 243us/sample - loss: 0.3265 - accuracy: 0.8554\n",
      "Epoch 129/200\n",
      "242/242 [==============================] - 0s 214us/sample - loss: 0.3353 - accuracy: 0.8347\n",
      "Epoch 130/200\n",
      "242/242 [==============================] - 0s 218us/sample - loss: 0.3231 - accuracy: 0.8388\n",
      "Epoch 131/200\n",
      "242/242 [==============================] - 0s 227us/sample - loss: 0.3325 - accuracy: 0.8554\n",
      "Epoch 132/200\n",
      "242/242 [==============================] - 0s 227us/sample - loss: 0.3282 - accuracy: 0.8471\n",
      "Epoch 133/200\n",
      "242/242 [==============================] - 0s 218us/sample - loss: 0.3152 - accuracy: 0.8512\n",
      "Epoch 134/200\n",
      "242/242 [==============================] - 0s 227us/sample - loss: 0.2879 - accuracy: 0.8554\n",
      "Epoch 135/200\n",
      "242/242 [==============================] - 0s 218us/sample - loss: 0.3036 - accuracy: 0.8678\n",
      "Epoch 136/200\n",
      "242/242 [==============================] - 0s 223us/sample - loss: 0.3719 - accuracy: 0.8264\n",
      "Epoch 137/200\n",
      "242/242 [==============================] - 0s 231us/sample - loss: 0.3165 - accuracy: 0.8636\n",
      "Epoch 138/200\n",
      "242/242 [==============================] - 0s 227us/sample - loss: 0.3283 - accuracy: 0.8430\n",
      "Epoch 139/200\n",
      "242/242 [==============================] - 0s 251us/sample - loss: 0.3194 - accuracy: 0.8554\n",
      "Epoch 140/200\n",
      "242/242 [==============================] - 0s 326us/sample - loss: 0.3216 - accuracy: 0.8430\n",
      "Epoch 141/200\n",
      "242/242 [==============================] - 0s 297us/sample - loss: 0.3381 - accuracy: 0.8430\n",
      "Epoch 142/200\n",
      "242/242 [==============================] - 0s 251us/sample - loss: 0.3080 - accuracy: 0.8719\n",
      "Epoch 143/200\n",
      "242/242 [==============================] - 0s 235us/sample - loss: 0.3800 - accuracy: 0.8347\n",
      "Epoch 144/200\n",
      "242/242 [==============================] - 0s 247us/sample - loss: 0.4034 - accuracy: 0.8264\n",
      "Epoch 145/200\n",
      "242/242 [==============================] - 0s 280us/sample - loss: 0.3600 - accuracy: 0.8347\n",
      "Epoch 146/200\n",
      "242/242 [==============================] - 0s 243us/sample - loss: 0.3358 - accuracy: 0.8223\n",
      "Epoch 147/200\n",
      "242/242 [==============================] - 0s 223us/sample - loss: 0.3667 - accuracy: 0.8182\n",
      "Epoch 148/200\n",
      "242/242 [==============================] - 0s 231us/sample - loss: 0.3285 - accuracy: 0.8430\n",
      "Epoch 149/200\n",
      "242/242 [==============================] - 0s 231us/sample - loss: 0.3464 - accuracy: 0.8554\n",
      "Epoch 150/200\n",
      "242/242 [==============================] - 0s 231us/sample - loss: 0.3673 - accuracy: 0.8471\n",
      "Epoch 151/200\n",
      "242/242 [==============================] - 0s 227us/sample - loss: 0.3372 - accuracy: 0.8471\n",
      "Epoch 152/200\n",
      "242/242 [==============================] - 0s 231us/sample - loss: 0.2943 - accuracy: 0.8595\n",
      "Epoch 153/200\n",
      "242/242 [==============================] - 0s 223us/sample - loss: 0.3051 - accuracy: 0.8471\n",
      "Epoch 154/200\n"
     ]
    },
    {
     "name": "stdout",
     "output_type": "stream",
     "text": [
      "242/242 [==============================] - 0s 235us/sample - loss: 0.2937 - accuracy: 0.8760\n",
      "Epoch 155/200\n",
      "242/242 [==============================] - 0s 243us/sample - loss: 0.2961 - accuracy: 0.8760\n",
      "Epoch 156/200\n",
      "242/242 [==============================] - 0s 268us/sample - loss: 0.3080 - accuracy: 0.8554\n",
      "Epoch 157/200\n",
      "242/242 [==============================] - 0s 321us/sample - loss: 0.3354 - accuracy: 0.8636\n",
      "Epoch 158/200\n",
      "242/242 [==============================] - 0s 251us/sample - loss: 0.2984 - accuracy: 0.8678\n",
      "Epoch 159/200\n",
      "242/242 [==============================] - 0s 313us/sample - loss: 0.3062 - accuracy: 0.8760\n",
      "Epoch 160/200\n",
      "242/242 [==============================] - 0s 334us/sample - loss: 0.2903 - accuracy: 0.8719\n",
      "Epoch 161/200\n",
      "242/242 [==============================] - 0s 321us/sample - loss: 0.3369 - accuracy: 0.8430\n",
      "Epoch 162/200\n",
      "242/242 [==============================] - 0s 235us/sample - loss: 0.2880 - accuracy: 0.8760\n",
      "Epoch 163/200\n",
      "242/242 [==============================] - 0s 297us/sample - loss: 0.3008 - accuracy: 0.8471\n",
      "Epoch 164/200\n",
      "242/242 [==============================] - 0s 321us/sample - loss: 0.2784 - accuracy: 0.8595\n",
      "Epoch 165/200\n",
      "242/242 [==============================] - 0s 288us/sample - loss: 0.3332 - accuracy: 0.8554\n",
      "Epoch 166/200\n",
      "242/242 [==============================] - 0s 334us/sample - loss: 0.2915 - accuracy: 0.8719\n",
      "Epoch 167/200\n",
      "242/242 [==============================] - 0s 338us/sample - loss: 0.2971 - accuracy: 0.8802\n",
      "Epoch 168/200\n",
      "242/242 [==============================] - 0s 330us/sample - loss: 0.3091 - accuracy: 0.8595\n",
      "Epoch 169/200\n",
      "242/242 [==============================] - 0s 330us/sample - loss: 0.2898 - accuracy: 0.8554\n",
      "Epoch 170/200\n",
      "242/242 [==============================] - 0s 301us/sample - loss: 0.3324 - accuracy: 0.8554\n",
      "Epoch 171/200\n",
      "242/242 [==============================] - 0s 321us/sample - loss: 0.2893 - accuracy: 0.8719\n",
      "Epoch 172/200\n",
      "242/242 [==============================] - 0s 231us/sample - loss: 0.3197 - accuracy: 0.8678\n",
      "Epoch 173/200\n",
      "242/242 [==============================] - 0s 223us/sample - loss: 0.3098 - accuracy: 0.8636\n",
      "Epoch 174/200\n",
      "242/242 [==============================] - 0s 247us/sample - loss: 0.3004 - accuracy: 0.8595\n",
      "Epoch 175/200\n",
      "242/242 [==============================] - 0s 239us/sample - loss: 0.3051 - accuracy: 0.8760\n",
      "Epoch 176/200\n",
      "242/242 [==============================] - 0s 243us/sample - loss: 0.3412 - accuracy: 0.8595\n",
      "Epoch 177/200\n",
      "242/242 [==============================] - 0s 297us/sample - loss: 0.3212 - accuracy: 0.8388\n",
      "Epoch 178/200\n",
      "242/242 [==============================] - 0s 313us/sample - loss: 0.2554 - accuracy: 0.8967\n",
      "Epoch 179/200\n",
      "242/242 [==============================] - 0s 288us/sample - loss: 0.2705 - accuracy: 0.8802\n",
      "Epoch 180/200\n",
      "242/242 [==============================] - 0s 334us/sample - loss: 0.3059 - accuracy: 0.8347\n",
      "Epoch 181/200\n",
      "242/242 [==============================] - 0s 330us/sample - loss: 0.2922 - accuracy: 0.8595\n",
      "Epoch 182/200\n",
      "242/242 [==============================] - 0s 321us/sample - loss: 0.2890 - accuracy: 0.8678\n",
      "Epoch 183/200\n",
      "242/242 [==============================] - 0s 305us/sample - loss: 0.3111 - accuracy: 0.8512\n",
      "Epoch 184/200\n",
      "242/242 [==============================] - 0s 293us/sample - loss: 0.3289 - accuracy: 0.8140\n",
      "Epoch 185/200\n",
      "242/242 [==============================] - 0s 317us/sample - loss: 0.2791 - accuracy: 0.8884\n",
      "Epoch 186/200\n",
      "242/242 [==============================] - 0s 317us/sample - loss: 0.2826 - accuracy: 0.8926\n",
      "Epoch 187/200\n",
      "242/242 [==============================] - 0s 239us/sample - loss: 0.2521 - accuracy: 0.8884\n",
      "Epoch 188/200\n",
      "242/242 [==============================] - 0s 334us/sample - loss: 0.2962 - accuracy: 0.8595\n",
      "Epoch 189/200\n",
      "242/242 [==============================] - 0s 305us/sample - loss: 0.2884 - accuracy: 0.8719\n",
      "Epoch 190/200\n",
      "242/242 [==============================] - 0s 223us/sample - loss: 0.3299 - accuracy: 0.8554\n",
      "Epoch 191/200\n",
      "242/242 [==============================] - 0s 260us/sample - loss: 0.2929 - accuracy: 0.8678\n",
      "Epoch 192/200\n",
      "242/242 [==============================] - 0s 276us/sample - loss: 0.3062 - accuracy: 0.8430\n",
      "Epoch 193/200\n",
      "242/242 [==============================] - 0s 235us/sample - loss: 0.2580 - accuracy: 0.9091\n",
      "Epoch 194/200\n",
      "242/242 [==============================] - 0s 223us/sample - loss: 0.3215 - accuracy: 0.8430\n",
      "Epoch 195/200\n",
      "242/242 [==============================] - 0s 272us/sample - loss: 0.2804 - accuracy: 0.8512\n",
      "Epoch 196/200\n",
      "242/242 [==============================] - 0s 260us/sample - loss: 0.3101 - accuracy: 0.8595\n",
      "Epoch 197/200\n",
      "242/242 [==============================] - 0s 243us/sample - loss: 0.2790 - accuracy: 0.8636\n",
      "Epoch 198/200\n",
      "242/242 [==============================] - 0s 297us/sample - loss: 0.4193 - accuracy: 0.8182\n",
      "Epoch 199/200\n",
      "242/242 [==============================] - 0s 288us/sample - loss: 0.2441 - accuracy: 0.9091\n",
      "Epoch 200/200\n",
      "242/242 [==============================] - 0s 309us/sample - loss: 0.2500 - accuracy: 0.8884\n"
     ]
    },
    {
     "data": {
      "text/plain": [
       "<tensorflow.python.keras.callbacks.History at 0x1c459fa1358>"
      ]
     },
     "execution_count": 31,
     "metadata": {},
     "output_type": "execute_result"
    }
   ],
   "source": [
    "model1.fit(x_train, y_train, epochs=200)"
   ]
  },
  {
   "cell_type": "code",
   "execution_count": 32,
   "metadata": {},
   "outputs": [],
   "source": [
    "pred=model1.predict(x_test)\n",
    "pred=np.around(pred)"
   ]
  },
  {
   "cell_type": "code",
   "execution_count": 33,
   "metadata": {
    "scrolled": true
   },
   "outputs": [
    {
     "name": "stdout",
     "output_type": "stream",
     "text": [
      "Accuracy : 0.8524590163934426\n",
      "              precision    recall  f1-score   support\n",
      "\n",
      "           0       0.93      0.78      0.85        32\n",
      "           1       0.79      0.93      0.86        29\n",
      "\n",
      "   micro avg       0.85      0.85      0.85        61\n",
      "   macro avg       0.86      0.86      0.85        61\n",
      "weighted avg       0.86      0.85      0.85        61\n",
      "\n"
     ]
    },
    {
     "data": {
      "image/png": "[encoded data removed]",
      "text/plain": [
       "<Figure size 432x288 with 2 Axes>"
      ]
     },
     "metadata": {
      "needs_background": "light"
     },
     "output_type": "display_data"
    },
    {
     "data": {
      "image/png": "[encoded data removed]",
      "text/plain": [
       "<Figure size 432x288 with 2 Axes>"
      ]
     },
     "metadata": {
      "needs_background": "light"
     },
     "output_type": "display_data"
    },
    {
     "data": {
      "image/png": "[encoded data removed]",
      "text/plain": [
       "<Figure size 360x360 with 1 Axes>"
      ]
     },
     "metadata": {
      "needs_background": "light"
     },
     "output_type": "display_data"
    },
    {
     "data": {
      "image/png": "[encoded data removed]",
      "text/plain": [
       "<Figure size 432x288 with 1 Axes>"
      ]
     },
     "metadata": {
      "needs_background": "light"
     },
     "output_type": "display_data"
    }
   ],
   "source": [
    "print('Accuracy :',accuracy_score(y_test, pred))\n",
    "print(classification_report(y_test, pred))\n",
    "confusion_plot(y_test, pred)\n",
    "distplott(y_test, pred)\n",
    "roc_plot(y_test, pred)"
   ]
  },
  {
   "cell_type": "code",
   "execution_count": 34,
   "metadata": {},
   "outputs": [
    {
     "name": "stdout",
     "output_type": "stream",
     "text": [
      "Accuracy : 0.859504132231405\n",
      "              precision    recall  f1-score   support\n",
      "\n",
      "           0       0.83      0.85      0.84       106\n",
      "           1       0.88      0.87      0.87       136\n",
      "\n",
      "   micro avg       0.86      0.86      0.86       242\n",
      "   macro avg       0.86      0.86      0.86       242\n",
      "weighted avg       0.86      0.86      0.86       242\n",
      "\n"
     ]
    },
    {
     "data": {
      "image/png": "[encoded data removed]",
      "text/plain": [
       "<Figure size 432x288 with 2 Axes>"
      ]
     },
     "metadata": {
      "needs_background": "light"
     },
     "output_type": "display_data"
    },
    {
     "data": {
      "image/png": "[encoded data removed]",
      "text/plain": [
       "<Figure size 432x288 with 2 Axes>"
      ]
     },
     "metadata": {
      "needs_background": "light"
     },
     "output_type": "display_data"
    },
    {
     "data": {
      "image/png": "[encoded data removed]",
      "text/plain": [
       "<Figure size 360x360 with 1 Axes>"
      ]
     },
     "metadata": {
      "needs_background": "light"
     },
     "output_type": "display_data"
    },
    {
     "data": {
      "image/png": "[encoded data removed]",
      "text/plain": [
       "<Figure size 432x288 with 1 Axes>"
      ]
     },
     "metadata": {
      "needs_background": "light"
     },
     "output_type": "display_data"
    }
   ],
   "source": [
    "predd=model1.predict(x_train)\n",
    "predd=np.around(predd)\n",
    "print('Accuracy :', accuracy_score(y_train, predd))\n",
    "print(classification_report(y_train, predd))\n",
    "confusion_plot(y_train, predd)\n",
    "distplott(y_train, predd)\n",
    "roc_plot(y_train, predd)"
   ]
  },
  {
   "cell_type": "markdown",
   "metadata": {},
   "source": [
    "Neural network on pca dataset"
   ]
  },
  {
   "cell_type": "code",
   "execution_count": 35,
   "metadata": {},
   "outputs": [],
   "source": [
    "model2.compile(optimizer='adam', loss='binary_crossentropy', metrics=['accuracy'])"
   ]
  },
  {
   "cell_type": "code",
   "execution_count": 36,
   "metadata": {},
   "outputs": [
    {
     "name": "stdout",
     "output_type": "stream",
     "text": [
      "training size :(242, 13), \n",
      " test size :(61, 13)\n"
     ]
    }
   ],
   "source": [
    "x_train, x_test, y_train, y_test=split_data(X, y)"
   ]
  },
  {
   "cell_type": "code",
   "execution_count": 37,
   "metadata": {},
   "outputs": [
    {
     "name": "stdout",
     "output_type": "stream",
     "text": [
      "Train on 242 samples\n",
      "Epoch 1/200\n",
      "242/242 [==============================] - 0s 2ms/sample - loss: 2.1885 - accuracy: 0.6446\n",
      "Epoch 2/200\n",
      "242/242 [==============================] - 0s 284us/sample - loss: 1.1628 - accuracy: 0.5083\n",
      "Epoch 3/200\n",
      "242/242 [==============================] - 0s 264us/sample - loss: 0.7976 - accuracy: 0.6488\n",
      "Epoch 4/200\n",
      "242/242 [==============================] - 0s 256us/sample - loss: 0.7778 - accuracy: 0.6446\n",
      "Epoch 5/200\n",
      "242/242 [==============================] - 0s 268us/sample - loss: 0.6917 - accuracy: 0.6653\n",
      "Epoch 6/200\n",
      "242/242 [==============================] - 0s 239us/sample - loss: 0.6480 - accuracy: 0.6612\n",
      "Epoch 7/200\n",
      "242/242 [==============================] - 0s 297us/sample - loss: 0.6210 - accuracy: 0.6942\n",
      "Epoch 8/200\n",
      "242/242 [==============================] - 0s 272us/sample - loss: 0.5862 - accuracy: 0.7231\n",
      "Epoch 9/200\n",
      "242/242 [==============================] - 0s 235us/sample - loss: 0.5109 - accuracy: 0.7355\n",
      "Epoch 10/200\n",
      "242/242 [==============================] - 0s 239us/sample - loss: 0.5114 - accuracy: 0.7521\n",
      "Epoch 11/200\n",
      "242/242 [==============================] - 0s 321us/sample - loss: 0.5426 - accuracy: 0.7727\n",
      "Epoch 12/200\n",
      "242/242 [==============================] - 0s 309us/sample - loss: 0.5304 - accuracy: 0.7975\n",
      "Epoch 13/200\n",
      "242/242 [==============================] - 0s 243us/sample - loss: 0.4919 - accuracy: 0.7810\n",
      "Epoch 14/200\n",
      "242/242 [==============================] - 0s 235us/sample - loss: 0.3982 - accuracy: 0.8223\n",
      "Epoch 15/200\n",
      "242/242 [==============================] - 0s 214us/sample - loss: 0.4058 - accuracy: 0.8099\n",
      "Epoch 16/200\n",
      "242/242 [==============================] - 0s 239us/sample - loss: 0.3478 - accuracy: 0.8554\n",
      "Epoch 17/200\n",
      "242/242 [==============================] - 0s 317us/sample - loss: 0.3742 - accuracy: 0.8347\n",
      "Epoch 18/200\n",
      "242/242 [==============================] - 0s 309us/sample - loss: 0.3273 - accuracy: 0.8595\n",
      "Epoch 19/200\n",
      "242/242 [==============================] - 0s 313us/sample - loss: 0.3203 - accuracy: 0.8719\n",
      "Epoch 20/200\n",
      "242/242 [==============================] - 0s 264us/sample - loss: 0.2686 - accuracy: 0.9050\n",
      "Epoch 21/200\n",
      "242/242 [==============================] - 0s 223us/sample - loss: 0.2929 - accuracy: 0.8843\n",
      "Epoch 22/200\n",
      "242/242 [==============================] - 0s 231us/sample - loss: 0.2934 - accuracy: 0.8636\n",
      "Epoch 23/200\n",
      "242/242 [==============================] - 0s 227us/sample - loss: 0.2547 - accuracy: 0.9050\n",
      "Epoch 24/200\n",
      "242/242 [==============================] - 0s 235us/sample - loss: 0.2261 - accuracy: 0.9091\n",
      "Epoch 25/200\n",
      "242/242 [==============================] - 0s 227us/sample - loss: 0.1997 - accuracy: 0.9256\n",
      "Epoch 26/200\n",
      "242/242 [==============================] - 0s 214us/sample - loss: 0.1734 - accuracy: 0.9256\n",
      "Epoch 27/200\n",
      "242/242 [==============================] - 0s 227us/sample - loss: 0.1897 - accuracy: 0.9091\n",
      "Epoch 28/200\n",
      "242/242 [==============================] - 0s 231us/sample - loss: 0.1425 - accuracy: 0.9628\n",
      "Epoch 29/200\n",
      "242/242 [==============================] - 0s 235us/sample - loss: 0.1844 - accuracy: 0.9174\n",
      "Epoch 30/200\n",
      "242/242 [==============================] - 0s 231us/sample - loss: 0.2202 - accuracy: 0.9339\n",
      "Epoch 31/200\n",
      "242/242 [==============================] - 0s 227us/sample - loss: 0.2058 - accuracy: 0.9215\n",
      "Epoch 32/200\n",
      "242/242 [==============================] - 0s 227us/sample - loss: 0.2290 - accuracy: 0.9091\n",
      "Epoch 33/200\n",
      "242/242 [==============================] - 0s 227us/sample - loss: 0.1555 - accuracy: 0.9339\n",
      "Epoch 34/200\n",
      "242/242 [==============================] - 0s 231us/sample - loss: 0.2163 - accuracy: 0.9091\n",
      "Epoch 35/200\n",
      "242/242 [==============================] - 0s 284us/sample - loss: 0.2145 - accuracy: 0.9339\n",
      "Epoch 36/200\n",
      "242/242 [==============================] - 0s 297us/sample - loss: 0.2750 - accuracy: 0.9132\n",
      "Epoch 37/200\n",
      "242/242 [==============================] - 0s 309us/sample - loss: 0.1227 - accuracy: 0.9587\n",
      "Epoch 38/200\n",
      "242/242 [==============================] - 0s 264us/sample - loss: 0.1540 - accuracy: 0.9339\n",
      "Epoch 39/200\n",
      "242/242 [==============================] - 0s 218us/sample - loss: 0.1084 - accuracy: 0.9587\n",
      "Epoch 40/200\n",
      "242/242 [==============================] - 0s 218us/sample - loss: 0.1373 - accuracy: 0.9463\n",
      "Epoch 41/200\n",
      "242/242 [==============================] - 0s 227us/sample - loss: 0.1469 - accuracy: 0.9421\n",
      "Epoch 42/200\n",
      "242/242 [==============================] - 0s 223us/sample - loss: 0.1260 - accuracy: 0.9463\n",
      "Epoch 43/200\n",
      "242/242 [==============================] - 0s 218us/sample - loss: 0.1787 - accuracy: 0.9339\n",
      "Epoch 44/200\n",
      "242/242 [==============================] - 0s 223us/sample - loss: 0.1917 - accuracy: 0.9215\n",
      "Epoch 45/200\n",
      "242/242 [==============================] - 0s 243us/sample - loss: 0.1135 - accuracy: 0.9504\n",
      "Epoch 46/200\n",
      "242/242 [==============================] - 0s 223us/sample - loss: 0.1164 - accuracy: 0.9545\n",
      "Epoch 47/200\n",
      "242/242 [==============================] - 0s 231us/sample - loss: 0.1213 - accuracy: 0.9587\n",
      "Epoch 48/200\n",
      "242/242 [==============================] - 0s 239us/sample - loss: 0.1099 - accuracy: 0.9421\n",
      "Epoch 49/200\n",
      "242/242 [==============================] - 0s 223us/sample - loss: 0.1315 - accuracy: 0.9628\n",
      "Epoch 50/200\n",
      "242/242 [==============================] - 0s 231us/sample - loss: 0.1443 - accuracy: 0.9545\n",
      "Epoch 51/200\n",
      "242/242 [==============================] - 0s 231us/sample - loss: 0.1149 - accuracy: 0.9587\n",
      "Epoch 52/200\n",
      "242/242 [==============================] - 0s 223us/sample - loss: 0.1394 - accuracy: 0.9421\n",
      "Epoch 53/200\n",
      "242/242 [==============================] - 0s 231us/sample - loss: 0.0909 - accuracy: 0.9545\n",
      "Epoch 54/200\n",
      "242/242 [==============================] - 0s 247us/sample - loss: 0.0745 - accuracy: 0.9793\n",
      "Epoch 55/200\n",
      "242/242 [==============================] - 0s 227us/sample - loss: 0.0946 - accuracy: 0.9669\n",
      "Epoch 56/200\n",
      "242/242 [==============================] - 0s 231us/sample - loss: 0.0954 - accuracy: 0.9587\n",
      "Epoch 57/200\n",
      "242/242 [==============================] - 0s 293us/sample - loss: 0.1113 - accuracy: 0.9504\n",
      "Epoch 58/200\n",
      "242/242 [==============================] - 0s 251us/sample - loss: 0.0567 - accuracy: 0.9752\n",
      "Epoch 59/200\n",
      "242/242 [==============================] - 0s 247us/sample - loss: 0.0587 - accuracy: 0.9752\n",
      "Epoch 60/200\n",
      "242/242 [==============================] - 0s 243us/sample - loss: 0.0775 - accuracy: 0.9587\n",
      "Epoch 61/200\n",
      "242/242 [==============================] - 0s 239us/sample - loss: 0.1002 - accuracy: 0.9669\n",
      "Epoch 62/200\n",
      "242/242 [==============================] - 0s 260us/sample - loss: 0.0980 - accuracy: 0.9587\n",
      "Epoch 63/200\n",
      "242/242 [==============================] - 0s 297us/sample - loss: 0.0747 - accuracy: 0.9669\n",
      "Epoch 64/200\n",
      "242/242 [==============================] - 0s 264us/sample - loss: 0.0694 - accuracy: 0.9752\n",
      "Epoch 65/200\n",
      "242/242 [==============================] - 0s 235us/sample - loss: 0.0840 - accuracy: 0.9711\n",
      "Epoch 66/200\n",
      "242/242 [==============================] - 0s 268us/sample - loss: 0.1095 - accuracy: 0.9587\n",
      "Epoch 67/200\n",
      "242/242 [==============================] - 0s 313us/sample - loss: 0.1128 - accuracy: 0.9587\n",
      "Epoch 68/200\n",
      "242/242 [==============================] - 0s 326us/sample - loss: 0.2312 - accuracy: 0.9256\n",
      "Epoch 69/200\n",
      "242/242 [==============================] - 0s 260us/sample - loss: 0.1099 - accuracy: 0.9669\n",
      "Epoch 70/200\n",
      "242/242 [==============================] - 0s 214us/sample - loss: 0.0838 - accuracy: 0.9669\n",
      "Epoch 71/200\n",
      "242/242 [==============================] - 0s 218us/sample - loss: 0.0771 - accuracy: 0.9628\n",
      "Epoch 72/200\n",
      "242/242 [==============================] - 0s 223us/sample - loss: 0.1184 - accuracy: 0.9504\n",
      "Epoch 73/200\n",
      "242/242 [==============================] - 0s 227us/sample - loss: 0.0661 - accuracy: 0.9835\n",
      "Epoch 74/200\n",
      "242/242 [==============================] - 0s 227us/sample - loss: 0.1403 - accuracy: 0.9545\n",
      "Epoch 75/200\n",
      "242/242 [==============================] - 0s 214us/sample - loss: 0.1158 - accuracy: 0.9587\n",
      "Epoch 76/200\n",
      "242/242 [==============================] - 0s 231us/sample - loss: 0.0682 - accuracy: 0.9711\n",
      "Epoch 77/200\n",
      "242/242 [==============================] - 0s 223us/sample - loss: 0.0546 - accuracy: 0.9711\n",
      "Epoch 78/200\n"
     ]
    },
    {
     "name": "stdout",
     "output_type": "stream",
     "text": [
      "242/242 [==============================] - 0s 218us/sample - loss: 0.0758 - accuracy: 0.9628\n",
      "Epoch 79/200\n",
      "242/242 [==============================] - 0s 235us/sample - loss: 0.0735 - accuracy: 0.9793\n",
      "Epoch 80/200\n",
      "242/242 [==============================] - 0s 214us/sample - loss: 0.0600 - accuracy: 0.9793\n",
      "Epoch 81/200\n",
      "242/242 [==============================] - 0s 214us/sample - loss: 0.0832 - accuracy: 0.9587\n",
      "Epoch 82/200\n",
      "242/242 [==============================] - 0s 231us/sample - loss: 0.0793 - accuracy: 0.9669\n",
      "Epoch 83/200\n",
      "242/242 [==============================] - 0s 227us/sample - loss: 0.1757 - accuracy: 0.9339\n",
      "Epoch 84/200\n",
      "242/242 [==============================] - 0s 223us/sample - loss: 0.1076 - accuracy: 0.9628\n",
      "Epoch 85/200\n",
      "242/242 [==============================] - 0s 231us/sample - loss: 0.0730 - accuracy: 0.9628\n",
      "Epoch 86/200\n",
      "242/242 [==============================] - 0s 235us/sample - loss: 0.0965 - accuracy: 0.9504\n",
      "Epoch 87/200\n",
      "242/242 [==============================] - 0s 235us/sample - loss: 0.0735 - accuracy: 0.9752\n",
      "Epoch 88/200\n",
      "242/242 [==============================] - 0s 227us/sample - loss: 0.0773 - accuracy: 0.9628\n",
      "Epoch 89/200\n",
      "242/242 [==============================] - 0s 247us/sample - loss: 0.0616 - accuracy: 0.9835\n",
      "Epoch 90/200\n",
      "242/242 [==============================] - ETA: 0s - loss: 0.0588 - accuracy: 0.96 - 0s 227us/sample - loss: 0.0667 - accuracy: 0.9793\n",
      "Epoch 91/200\n",
      "242/242 [==============================] - 0s 231us/sample - loss: 0.0485 - accuracy: 0.9793\n",
      "Epoch 92/200\n",
      "242/242 [==============================] - 0s 243us/sample - loss: 0.1652 - accuracy: 0.9545\n",
      "Epoch 93/200\n",
      "242/242 [==============================] - 0s 218us/sample - loss: 0.0726 - accuracy: 0.9628\n",
      "Epoch 94/200\n",
      "242/242 [==============================] - 0s 243us/sample - loss: 0.1022 - accuracy: 0.9669\n",
      "Epoch 95/200\n",
      "242/242 [==============================] - 0s 284us/sample - loss: 0.0880 - accuracy: 0.9545\n",
      "Epoch 96/200\n",
      "242/242 [==============================] - 0s 297us/sample - loss: 0.1467 - accuracy: 0.9669\n",
      "Epoch 97/200\n",
      "242/242 [==============================] - 0s 239us/sample - loss: 0.1405 - accuracy: 0.9587\n",
      "Epoch 98/200\n",
      "242/242 [==============================] - 0s 218us/sample - loss: 0.1118 - accuracy: 0.9628\n",
      "Epoch 99/200\n",
      "242/242 [==============================] - 0s 227us/sample - loss: 0.0819 - accuracy: 0.9711\n",
      "Epoch 100/200\n",
      "242/242 [==============================] - 0s 231us/sample - loss: 0.0744 - accuracy: 0.9669\n",
      "Epoch 101/200\n",
      "242/242 [==============================] - 0s 218us/sample - loss: 0.0638 - accuracy: 0.9752\n",
      "Epoch 102/200\n",
      "242/242 [==============================] - 0s 223us/sample - loss: 0.1068 - accuracy: 0.9628\n",
      "Epoch 103/200\n",
      "242/242 [==============================] - 0s 227us/sample - loss: 0.0938 - accuracy: 0.9669\n",
      "Epoch 104/200\n",
      "242/242 [==============================] - 0s 247us/sample - loss: 0.0789 - accuracy: 0.9793\n",
      "Epoch 105/200\n",
      "242/242 [==============================] - 0s 301us/sample - loss: 0.0508 - accuracy: 0.9752\n",
      "Epoch 106/200\n",
      "242/242 [==============================] - 0s 280us/sample - loss: 0.0921 - accuracy: 0.9669\n",
      "Epoch 107/200\n",
      "242/242 [==============================] - 0s 227us/sample - loss: 0.0464 - accuracy: 0.9793\n",
      "Epoch 108/200\n",
      "242/242 [==============================] - 0s 243us/sample - loss: 0.0422 - accuracy: 0.9835\n",
      "Epoch 109/200\n",
      "242/242 [==============================] - 0s 264us/sample - loss: 0.0502 - accuracy: 0.9835\n",
      "Epoch 110/200\n",
      "242/242 [==============================] - 0s 218us/sample - loss: 0.0415 - accuracy: 0.9793\n",
      "Epoch 111/200\n",
      "242/242 [==============================] - 0s 227us/sample - loss: 0.0615 - accuracy: 0.9793\n",
      "Epoch 112/200\n",
      "242/242 [==============================] - 0s 231us/sample - loss: 0.0593 - accuracy: 0.9835\n",
      "Epoch 113/200\n",
      "242/242 [==============================] - 0s 235us/sample - loss: 0.0811 - accuracy: 0.9628\n",
      "Epoch 114/200\n",
      "242/242 [==============================] - 0s 235us/sample - loss: 0.0496 - accuracy: 0.9793\n",
      "Epoch 115/200\n",
      "242/242 [==============================] - 0s 231us/sample - loss: 0.0445 - accuracy: 0.9835\n",
      "Epoch 116/200\n",
      "242/242 [==============================] - 0s 239us/sample - loss: 0.0348 - accuracy: 0.9876\n",
      "Epoch 117/200\n",
      "242/242 [==============================] - 0s 239us/sample - loss: 0.0335 - accuracy: 0.9876\n",
      "Epoch 118/200\n",
      "242/242 [==============================] - 0s 243us/sample - loss: 0.0408 - accuracy: 0.9835\n",
      "Epoch 119/200\n",
      "242/242 [==============================] - 0s 239us/sample - loss: 0.0457 - accuracy: 0.9835\n",
      "Epoch 120/200\n",
      "242/242 [==============================] - 0s 227us/sample - loss: 0.0374 - accuracy: 0.9917\n",
      "Epoch 121/200\n",
      "242/242 [==============================] - 0s 227us/sample - loss: 0.0121 - accuracy: 0.9959\n",
      "Epoch 122/200\n",
      "242/242 [==============================] - 0s 218us/sample - loss: 0.0494 - accuracy: 0.9876\n",
      "Epoch 123/200\n",
      "242/242 [==============================] - 0s 235us/sample - loss: 0.1188 - accuracy: 0.9711\n",
      "Epoch 124/200\n",
      "242/242 [==============================] - 0s 276us/sample - loss: 0.0634 - accuracy: 0.9835\n",
      "Epoch 125/200\n",
      "242/242 [==============================] - 0s 309us/sample - loss: 0.0724 - accuracy: 0.9793\n",
      "Epoch 126/200\n",
      "242/242 [==============================] - 0s 231us/sample - loss: 0.0377 - accuracy: 0.9876\n",
      "Epoch 127/200\n",
      "242/242 [==============================] - ETA: 0s - loss: 0.0446 - accuracy: 0.96 - 0s 223us/sample - loss: 0.0686 - accuracy: 0.9793\n",
      "Epoch 128/200\n",
      "242/242 [==============================] - 0s 260us/sample - loss: 0.0679 - accuracy: 0.9711\n",
      "Epoch 129/200\n",
      "242/242 [==============================] - 0s 305us/sample - loss: 0.0660 - accuracy: 0.9752\n",
      "Epoch 130/200\n",
      "242/242 [==============================] - 0s 309us/sample - loss: 0.1592 - accuracy: 0.9587\n",
      "Epoch 131/200\n",
      "242/242 [==============================] - 0s 223us/sample - loss: 0.0745 - accuracy: 0.9669\n",
      "Epoch 132/200\n",
      "242/242 [==============================] - 0s 223us/sample - loss: 0.0771 - accuracy: 0.9835\n",
      "Epoch 133/200\n",
      "242/242 [==============================] - 0s 231us/sample - loss: 0.1334 - accuracy: 0.9628\n",
      "Epoch 134/200\n",
      "242/242 [==============================] - 0s 227us/sample - loss: 0.0783 - accuracy: 0.9752\n",
      "Epoch 135/200\n",
      "242/242 [==============================] - 0s 223us/sample - loss: 0.0998 - accuracy: 0.9711\n",
      "Epoch 136/200\n",
      "242/242 [==============================] - 0s 251us/sample - loss: 0.0758 - accuracy: 0.9752\n",
      "Epoch 137/200\n",
      "242/242 [==============================] - 0s 239us/sample - loss: 0.1003 - accuracy: 0.9752\n",
      "Epoch 138/200\n",
      "242/242 [==============================] - 0s 227us/sample - loss: 0.1151 - accuracy: 0.9669\n",
      "Epoch 139/200\n",
      "242/242 [==============================] - 0s 231us/sample - loss: 0.1306 - accuracy: 0.9587\n",
      "Epoch 140/200\n",
      "242/242 [==============================] - 0s 247us/sample - loss: 0.0530 - accuracy: 0.9793\n",
      "Epoch 141/200\n",
      "242/242 [==============================] - 0s 268us/sample - loss: 0.0337 - accuracy: 0.9876\n",
      "Epoch 142/200\n",
      "242/242 [==============================] - 0s 321us/sample - loss: 0.0623 - accuracy: 0.9752\n",
      "Epoch 143/200\n",
      "242/242 [==============================] - 0s 247us/sample - loss: 0.0322 - accuracy: 0.9876\n",
      "Epoch 144/200\n",
      "242/242 [==============================] - 0s 227us/sample - loss: 0.0431 - accuracy: 0.9917\n",
      "Epoch 145/200\n",
      "242/242 [==============================] - 0s 256us/sample - loss: 0.0446 - accuracy: 0.9752\n",
      "Epoch 146/200\n",
      "242/242 [==============================] - 0s 313us/sample - loss: 0.0243 - accuracy: 0.9917\n",
      "Epoch 147/200\n",
      "242/242 [==============================] - 0s 313us/sample - loss: 0.0531 - accuracy: 0.9793\n",
      "Epoch 148/200\n",
      "242/242 [==============================] - 0s 235us/sample - loss: 0.0388 - accuracy: 0.9835\n",
      "Epoch 149/200\n",
      "242/242 [==============================] - 0s 239us/sample - loss: 0.0396 - accuracy: 0.9793\n",
      "Epoch 150/200\n",
      "242/242 [==============================] - 0s 231us/sample - loss: 0.0515 - accuracy: 0.9711\n",
      "Epoch 151/200\n",
      "242/242 [==============================] - 0s 223us/sample - loss: 0.0432 - accuracy: 0.9793\n",
      "Epoch 152/200\n",
      "242/242 [==============================] - 0s 223us/sample - loss: 0.0452 - accuracy: 0.9793\n",
      "Epoch 153/200\n",
      "242/242 [==============================] - 0s 227us/sample - loss: 0.0187 - accuracy: 0.9959\n",
      "Epoch 154/200\n"
     ]
    },
    {
     "name": "stdout",
     "output_type": "stream",
     "text": [
      "242/242 [==============================] - 0s 239us/sample - loss: 0.0103 - accuracy: 1.0000\n",
      "Epoch 155/200\n",
      "242/242 [==============================] - 0s 247us/sample - loss: 0.0546 - accuracy: 0.9835\n",
      "Epoch 156/200\n",
      "242/242 [==============================] - 0s 247us/sample - loss: 0.0290 - accuracy: 0.9876\n",
      "Epoch 157/200\n",
      "242/242 [==============================] - 0s 235us/sample - loss: 0.0223 - accuracy: 0.9959\n",
      "Epoch 158/200\n",
      "242/242 [==============================] - 0s 227us/sample - loss: 0.0285 - accuracy: 0.9959\n",
      "Epoch 159/200\n",
      "242/242 [==============================] - 0s 256us/sample - loss: 0.0178 - accuracy: 0.9917\n",
      "Epoch 160/200\n",
      "242/242 [==============================] - 0s 239us/sample - loss: 0.0266 - accuracy: 0.9835\n",
      "Epoch 161/200\n",
      "242/242 [==============================] - 0s 227us/sample - loss: 0.0174 - accuracy: 0.9959\n",
      "Epoch 162/200\n",
      "242/242 [==============================] - 0s 227us/sample - loss: 0.0232 - accuracy: 0.9876\n",
      "Epoch 163/200\n",
      "242/242 [==============================] - 0s 231us/sample - loss: 0.0423 - accuracy: 0.9959\n",
      "Epoch 164/200\n",
      "242/242 [==============================] - 0s 235us/sample - loss: 0.0212 - accuracy: 0.9917\n",
      "Epoch 165/200\n",
      "242/242 [==============================] - 0s 227us/sample - loss: 0.0310 - accuracy: 0.9917\n",
      "Epoch 166/200\n",
      "242/242 [==============================] - 0s 416us/sample - loss: 0.0537 - accuracy: 0.9835\n",
      "Epoch 167/200\n",
      "242/242 [==============================] - 0s 416us/sample - loss: 0.0466 - accuracy: 0.9876\n",
      "Epoch 168/200\n",
      "242/242 [==============================] - 0s 445us/sample - loss: 0.0499 - accuracy: 0.9876\n",
      "Epoch 169/200\n",
      "242/242 [==============================] - 0s 371us/sample - loss: 0.1318 - accuracy: 0.9628\n",
      "Epoch 170/200\n",
      "242/242 [==============================] - 0s 404us/sample - loss: 0.0494 - accuracy: 0.9752\n",
      "Epoch 171/200\n",
      "242/242 [==============================] - 0s 264us/sample - loss: 0.0541 - accuracy: 0.9835\n",
      "Epoch 172/200\n",
      "242/242 [==============================] - 0s 280us/sample - loss: 0.0782 - accuracy: 0.9793\n",
      "Epoch 173/200\n",
      "242/242 [==============================] - 0s 223us/sample - loss: 0.0255 - accuracy: 0.9876\n",
      "Epoch 174/200\n",
      "242/242 [==============================] - 0s 227us/sample - loss: 0.0939 - accuracy: 0.9793\n",
      "Epoch 175/200\n",
      "242/242 [==============================] - 0s 227us/sample - loss: 0.0265 - accuracy: 0.9835\n",
      "Epoch 176/200\n",
      "242/242 [==============================] - 0s 268us/sample - loss: 0.0848 - accuracy: 0.9835\n",
      "Epoch 177/200\n",
      "242/242 [==============================] - 0s 247us/sample - loss: 0.0218 - accuracy: 0.9917\n",
      "Epoch 178/200\n",
      "242/242 [==============================] - 0s 251us/sample - loss: 0.0577 - accuracy: 0.9793\n",
      "Epoch 179/200\n",
      "242/242 [==============================] - 0s 247us/sample - loss: 0.0752 - accuracy: 0.9793\n",
      "Epoch 180/200\n",
      "242/242 [==============================] - 0s 251us/sample - loss: 0.1185 - accuracy: 0.9587\n",
      "Epoch 181/200\n",
      "242/242 [==============================] - 0s 235us/sample - loss: 0.0628 - accuracy: 0.9793\n",
      "Epoch 182/200\n",
      "242/242 [==============================] - 0s 231us/sample - loss: 0.0542 - accuracy: 0.9876\n",
      "Epoch 183/200\n",
      "242/242 [==============================] - 0s 239us/sample - loss: 0.0370 - accuracy: 0.9835\n",
      "Epoch 184/200\n",
      "242/242 [==============================] - 0s 251us/sample - loss: 0.0229 - accuracy: 0.9835\n",
      "Epoch 185/200\n",
      "242/242 [==============================] - 0s 260us/sample - loss: 0.0449 - accuracy: 0.9793\n",
      "Epoch 186/200\n",
      "242/242 [==============================] - 0s 256us/sample - loss: 0.0713 - accuracy: 0.9793\n",
      "Epoch 187/200\n",
      "242/242 [==============================] - 0s 313us/sample - loss: 0.0765 - accuracy: 0.9793\n",
      "Epoch 188/200\n",
      "242/242 [==============================] - 0s 305us/sample - loss: 0.0257 - accuracy: 0.9917\n",
      "Epoch 189/200\n",
      "242/242 [==============================] - 0s 235us/sample - loss: 0.0311 - accuracy: 0.9876\n",
      "Epoch 190/200\n",
      "242/242 [==============================] - 0s 239us/sample - loss: 0.0165 - accuracy: 0.9917\n",
      "Epoch 191/200\n",
      "242/242 [==============================] - 0s 243us/sample - loss: 0.0629 - accuracy: 0.9793\n",
      "Epoch 192/200\n",
      "242/242 [==============================] - 0s 247us/sample - loss: 0.0229 - accuracy: 0.9876\n",
      "Epoch 193/200\n",
      "242/242 [==============================] - 0s 247us/sample - loss: 0.0748 - accuracy: 0.9711\n",
      "Epoch 194/200\n",
      "242/242 [==============================] - 0s 247us/sample - loss: 0.0226 - accuracy: 0.9917\n",
      "Epoch 195/200\n",
      "242/242 [==============================] - 0s 247us/sample - loss: 0.0465 - accuracy: 0.9876\n",
      "Epoch 196/200\n",
      "242/242 [==============================] - 0s 227us/sample - loss: 0.0098 - accuracy: 1.0000\n",
      "Epoch 197/200\n",
      "242/242 [==============================] - 0s 272us/sample - loss: 0.0551 - accuracy: 0.9835\n",
      "Epoch 198/200\n",
      "242/242 [==============================] - 0s 301us/sample - loss: 0.0245 - accuracy: 0.9917\n",
      "Epoch 199/200\n",
      "242/242 [==============================] - 0s 350us/sample - loss: 0.0426 - accuracy: 0.9835\n",
      "Epoch 200/200\n",
      "242/242 [==============================] - 0s 251us/sample - loss: 0.0264 - accuracy: 0.9876\n"
     ]
    },
    {
     "data": {
      "text/plain": [
       "<tensorflow.python.keras.callbacks.History at 0x1c45a2395f8>"
      ]
     },
     "execution_count": 37,
     "metadata": {},
     "output_type": "execute_result"
    }
   ],
   "source": [
    "model2.fit(x_train, y_train, epochs=200)"
   ]
  },
  {
   "cell_type": "code",
   "execution_count": 38,
   "metadata": {},
   "outputs": [
    {
     "name": "stdout",
     "output_type": "stream",
     "text": [
      "              precision    recall  f1-score   support\n",
      "\n",
      "           0       1.00      0.94      0.97        32\n",
      "           1       0.94      1.00      0.97        29\n",
      "\n",
      "   micro avg       0.97      0.97      0.97        61\n",
      "   macro avg       0.97      0.97      0.97        61\n",
      "weighted avg       0.97      0.97      0.97        61\n",
      "\n",
      "Accuracy : 0.9672131147540983\n"
     ]
    }
   ],
   "source": [
    "pred2 = model2.predict(x_test)\n",
    "pred2=np.around(pred2)\n",
    "print(classification_report(y_test, pred2))\n",
    "print('Accuracy :', accuracy_score(y_test,pred2))"
   ]
  },
  {
   "cell_type": "markdown",
   "metadata": {},
   "source": [
    "# SUMMARY:\n",
    "The logistic regression was our best model out performing every other model used including neural network and xgboost on both datasets (pca and the actual dataset). The closest model to the logistic regression model was the Neural network. I have to say, The performance of any neural network model depends on the architect of the layers. Maybe with little tweaks, the neural network should be the best performer.\n",
    "\n",
    "Now let's show our important features for our logistic regression model"
   ]
  },
  {
   "cell_type": "code",
   "execution_count": null,
   "metadata": {},
   "outputs": [],
   "source": []
  }
 ],
 "metadata": {
  "kernelspec": {
   "display_name": "Python 3",
   "language": "python",
   "name": "python3"
  },
  "language_info": {
   "codemirror_mode": {
    "name": "ipython",
    "version": 3
   },
   "file_extension": ".py",
   "mimetype": "text/x-python",
   "name": "python",
   "nbconvert_exporter": "python",
   "pygments_lexer": "ipython3",
   "version": "3.7.3"
  }
 },
 "nbformat": 4,
 "nbformat_minor": 2
}
